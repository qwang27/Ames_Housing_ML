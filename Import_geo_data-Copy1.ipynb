{
 "cells": [
  {
   "cell_type": "code",
   "execution_count": 2,
   "id": "61be7561",
   "metadata": {},
   "outputs": [
    {
     "name": "stdout",
     "output_type": "stream",
     "text": [
      "Current working directory: /Users/chereowang27/NYCDSA/Machine_Learning_I/Machine_Learning_Project/Ames_Housing_ML\n"
     ]
    }
   ],
   "source": [
    "import os\n",
    "import pandas as pd\n",
    "import numpy as np\n",
    "from datetime import datetime\n",
    "from scipy import stats\n",
    "import matplotlib\n",
    "import matplotlib.pyplot as plt\n",
    "import plotly.express as px\n",
    "import seaborn as sns\n",
    "\n",
    "from geopy.geocoders import Nominatim\n",
    "from geopy.extra.rate_limiter import RateLimiter\n",
    "\n",
    "%matplotlib inline\n",
    "cwd = os.getcwd()\n",
    "print(\"Current working directory: {0}\".format(cwd))\n",
    "\n",
    "\n",
    "\n"
   ]
  },
  {
   "cell_type": "code",
   "execution_count": 3,
   "id": "e1fcedb4",
   "metadata": {},
   "outputs": [
    {
     "name": "stdout",
     "output_type": "stream",
     "text": [
      "(500, 3)\n",
      "(500, 3)\n",
      "(500, 3)\n",
      "(500, 3)\n",
      "(624, 3)\n"
     ]
    }
   ],
   "source": [
    "HP1 = pd.read_csv(\"./data/HP1.csv\", index_col = [0])\n",
    "HP2 = pd.read_csv(\"./data/HP2.csv\")\n",
    "HP3 = pd.read_csv(\"./data/HP3.csv\",index_col = [0])\n",
    "HP4 = pd.read_csv(\"./data/HP4.csv\",index_col = [0])\n",
    "HP5 = pd.read_csv(\"./data/HP5.csv\")\n",
    "print(HP1.shape)\n",
    "print(HP2.shape)\n",
    "print(HP3.shape)\n",
    "print(HP4.shape)\n",
    "print(HP5.shape)\n",
    "\n",
    "HP_geo = pd.concat([HP1, HP2, HP3, HP4, HP5], axis = 0)\n",
    "rowIndex = list(range(2624))\n",
    "HP_geo = HP_geo.set_index([pd.Index(rowIndex)])"
   ]
  },
  {
   "cell_type": "code",
   "execution_count": 4,
   "id": "de675297",
   "metadata": {},
   "outputs": [
    {
     "data": {
      "text/plain": [
       "Int64Index([   0,    1,    2,    3,    4,    5,    6,    7,    8,    9,\n",
       "            ...\n",
       "            2614, 2615, 2616, 2617, 2618, 2619, 2620, 2621, 2622, 2623],\n",
       "           dtype='int64', length=2624)"
      ]
     },
     "execution_count": 4,
     "metadata": {},
     "output_type": "execute_result"
    }
   ],
   "source": [
    "HP_geo.index"
   ]
  },
  {
   "cell_type": "code",
   "execution_count": 248,
   "id": "d2a6391c",
   "metadata": {},
   "outputs": [
    {
     "data": {
      "text/plain": [
       "Int64Index([   0,    1,    2,    3,    4,    5,    6,    7,    8,    9,\n",
       "            ...\n",
       "            2614, 2615, 2616, 2617, 2618, 2619, 2620, 2621, 2622, 2623],\n",
       "           dtype='int64', length=2624)"
      ]
     },
     "execution_count": 248,
     "metadata": {},
     "output_type": "execute_result"
    }
   ],
   "source": [
    "HousePrice1 = pd.read_csv(\"./data/HousePrice1.csv\",index_col = [0])\n",
    "rowIndex = list(range(2624))\n",
    "HousePrice1 = HousePrice1.set_index([pd.Index(rowIndex)])\n",
    "HousePrice1.index"
   ]
  },
  {
   "cell_type": "code",
   "execution_count": 252,
   "id": "91ee7e71",
   "metadata": {},
   "outputs": [
    {
     "data": {
      "text/html": [
       "<div>\n",
       "<style scoped>\n",
       "    .dataframe tbody tr th:only-of-type {\n",
       "        vertical-align: middle;\n",
       "    }\n",
       "\n",
       "    .dataframe tbody tr th {\n",
       "        vertical-align: top;\n",
       "    }\n",
       "\n",
       "    .dataframe thead th {\n",
       "        text-align: right;\n",
       "    }\n",
       "</style>\n",
       "<table border=\"1\" class=\"dataframe\">\n",
       "  <thead>\n",
       "    <tr style=\"text-align: right;\">\n",
       "      <th></th>\n",
       "      <th>address</th>\n",
       "      <th>latitude</th>\n",
       "      <th>longitude</th>\n",
       "      <th>MapRefNo</th>\n",
       "      <th>Prop_Addr</th>\n",
       "      <th>Unnamed: 0.1</th>\n",
       "      <th>PID</th>\n",
       "      <th>GrLivArea</th>\n",
       "      <th>SalePrice</th>\n",
       "      <th>MSSubClass</th>\n",
       "      <th>...</th>\n",
       "      <th>OpenPorchSF</th>\n",
       "      <th>EnclosedPorch</th>\n",
       "      <th>3SsnPorch</th>\n",
       "      <th>ScreenPorch</th>\n",
       "      <th>PoolArea</th>\n",
       "      <th>MiscVal</th>\n",
       "      <th>MoSold</th>\n",
       "      <th>YrSold</th>\n",
       "      <th>SaleType</th>\n",
       "      <th>SaleCondition</th>\n",
       "    </tr>\n",
       "  </thead>\n",
       "  <tbody>\n",
       "    <tr>\n",
       "      <th>0</th>\n",
       "      <td>436, Hayward Avenue, Campustown, Ames, Story C...</td>\n",
       "      <td>42.018564</td>\n",
       "      <td>-93.651619</td>\n",
       "      <td>909176150.0</td>\n",
       "      <td>436 HAYWARD AVE</td>\n",
       "      <td>1</td>\n",
       "      <td>909176150</td>\n",
       "      <td>856</td>\n",
       "      <td>126000</td>\n",
       "      <td>30</td>\n",
       "      <td>...</td>\n",
       "      <td>0</td>\n",
       "      <td>0</td>\n",
       "      <td>0</td>\n",
       "      <td>166</td>\n",
       "      <td>0</td>\n",
       "      <td>0</td>\n",
       "      <td>3</td>\n",
       "      <td>2010</td>\n",
       "      <td>WD</td>\n",
       "      <td>Normal</td>\n",
       "    </tr>\n",
       "    <tr>\n",
       "      <th>1</th>\n",
       "      <td>3416, West Street, Union Drive, Ames, Story Co...</td>\n",
       "      <td>42.024855</td>\n",
       "      <td>-93.663671</td>\n",
       "      <td>905476230.0</td>\n",
       "      <td>3416 WEST ST</td>\n",
       "      <td>2</td>\n",
       "      <td>905476230</td>\n",
       "      <td>1049</td>\n",
       "      <td>139500</td>\n",
       "      <td>120</td>\n",
       "      <td>...</td>\n",
       "      <td>105</td>\n",
       "      <td>0</td>\n",
       "      <td>0</td>\n",
       "      <td>0</td>\n",
       "      <td>0</td>\n",
       "      <td>0</td>\n",
       "      <td>2</td>\n",
       "      <td>2009</td>\n",
       "      <td>WD</td>\n",
       "      <td>Normal</td>\n",
       "    </tr>\n",
       "    <tr>\n",
       "      <th>2</th>\n",
       "      <td>3416, West Street, Union Drive, Ames, Story Co...</td>\n",
       "      <td>42.024855</td>\n",
       "      <td>-93.663671</td>\n",
       "      <td>905476230.0</td>\n",
       "      <td>3416 WEST ST</td>\n",
       "      <td>2</td>\n",
       "      <td>905476230</td>\n",
       "      <td>1049</td>\n",
       "      <td>139500</td>\n",
       "      <td>120</td>\n",
       "      <td>...</td>\n",
       "      <td>105</td>\n",
       "      <td>0</td>\n",
       "      <td>0</td>\n",
       "      <td>0</td>\n",
       "      <td>0</td>\n",
       "      <td>0</td>\n",
       "      <td>2</td>\n",
       "      <td>2009</td>\n",
       "      <td>WD</td>\n",
       "      <td>Normal</td>\n",
       "    </tr>\n",
       "    <tr>\n",
       "      <th>3</th>\n",
       "      <td>320, South 2nd Street, Ames, Story County, Iow...</td>\n",
       "      <td>42.021548</td>\n",
       "      <td>-93.614068</td>\n",
       "      <td>911128020.0</td>\n",
       "      <td>320 S 2ND ST</td>\n",
       "      <td>3</td>\n",
       "      <td>911128020</td>\n",
       "      <td>1001</td>\n",
       "      <td>124900</td>\n",
       "      <td>30</td>\n",
       "      <td>...</td>\n",
       "      <td>0</td>\n",
       "      <td>42</td>\n",
       "      <td>86</td>\n",
       "      <td>0</td>\n",
       "      <td>0</td>\n",
       "      <td>0</td>\n",
       "      <td>11</td>\n",
       "      <td>2007</td>\n",
       "      <td>WD</td>\n",
       "      <td>Normal</td>\n",
       "    </tr>\n",
       "    <tr>\n",
       "      <th>4</th>\n",
       "      <td>1524, Douglas Avenue, Broadmoor, Ames, Story C...</td>\n",
       "      <td>42.037391</td>\n",
       "      <td>-93.612207</td>\n",
       "      <td>535377150.0</td>\n",
       "      <td>1524 DOUGLAS AVE</td>\n",
       "      <td>4</td>\n",
       "      <td>535377150</td>\n",
       "      <td>1039</td>\n",
       "      <td>114000</td>\n",
       "      <td>70</td>\n",
       "      <td>...</td>\n",
       "      <td>0</td>\n",
       "      <td>168</td>\n",
       "      <td>0</td>\n",
       "      <td>111</td>\n",
       "      <td>0</td>\n",
       "      <td>0</td>\n",
       "      <td>5</td>\n",
       "      <td>2009</td>\n",
       "      <td>WD</td>\n",
       "      <td>Normal</td>\n",
       "    </tr>\n",
       "  </tbody>\n",
       "</table>\n",
       "<p>5 rows × 83 columns</p>\n",
       "</div>"
      ],
      "text/plain": [
       "                                             address   latitude  longitude  \\\n",
       "0  436, Hayward Avenue, Campustown, Ames, Story C...  42.018564 -93.651619   \n",
       "1  3416, West Street, Union Drive, Ames, Story Co...  42.024855 -93.663671   \n",
       "2  3416, West Street, Union Drive, Ames, Story Co...  42.024855 -93.663671   \n",
       "3  320, South 2nd Street, Ames, Story County, Iow...  42.021548 -93.614068   \n",
       "4  1524, Douglas Avenue, Broadmoor, Ames, Story C...  42.037391 -93.612207   \n",
       "\n",
       "      MapRefNo         Prop_Addr  Unnamed: 0.1        PID  GrLivArea  \\\n",
       "0  909176150.0   436 HAYWARD AVE             1  909176150        856   \n",
       "1  905476230.0      3416 WEST ST             2  905476230       1049   \n",
       "2  905476230.0      3416 WEST ST             2  905476230       1049   \n",
       "3  911128020.0      320 S 2ND ST             3  911128020       1001   \n",
       "4  535377150.0  1524 DOUGLAS AVE             4  535377150       1039   \n",
       "\n",
       "   SalePrice  MSSubClass  ... OpenPorchSF  EnclosedPorch  3SsnPorch  \\\n",
       "0     126000          30  ...           0              0          0   \n",
       "1     139500         120  ...         105              0          0   \n",
       "2     139500         120  ...         105              0          0   \n",
       "3     124900          30  ...           0             42         86   \n",
       "4     114000          70  ...           0            168          0   \n",
       "\n",
       "  ScreenPorch PoolArea MiscVal MoSold YrSold SaleType SaleCondition  \n",
       "0         166        0       0      3   2010      WD         Normal  \n",
       "1           0        0       0      2   2009      WD         Normal  \n",
       "2           0        0       0      2   2009      WD         Normal  \n",
       "3           0        0       0     11   2007      WD         Normal  \n",
       "4         111        0       0      5   2009      WD         Normal  \n",
       "\n",
       "[5 rows x 83 columns]"
      ]
     },
     "execution_count": 252,
     "metadata": {},
     "output_type": "execute_result"
    }
   ],
   "source": [
    "HousePrice2 = pd.concat([HP_geo, HousePrice1], axis = 1)\n",
    "HousePrice2.to_csv(\"./data/HousePrice2.csv\")\n",
    "HousePrice2.head()"
   ]
  },
  {
   "cell_type": "code",
   "execution_count": 6,
   "id": "8b9e0f2e",
   "metadata": {},
   "outputs": [],
   "source": [
    "HousePrice1_no_outlier = pd.read_csv(\"./data/HousePrice1_no_outlier.csv\",index_col = [0])"
   ]
  },
  {
   "cell_type": "code",
   "execution_count": null,
   "id": "aa633643",
   "metadata": {},
   "outputs": [],
   "source": [
    "pd.merge(HousePrice1_no_outlier, HP_geo, )"
   ]
  },
  {
   "cell_type": "code",
   "execution_count": null,
   "id": "36ecba67",
   "metadata": {},
   "outputs": [],
   "source": []
  },
  {
   "cell_type": "code",
   "execution_count": null,
   "id": "83d2ffa6",
   "metadata": {},
   "outputs": [],
   "source": []
  },
  {
   "cell_type": "code",
   "execution_count": null,
   "id": "02951ca6",
   "metadata": {},
   "outputs": [],
   "source": []
  },
  {
   "cell_type": "code",
   "execution_count": null,
   "id": "7cdc9d6d",
   "metadata": {},
   "outputs": [],
   "source": []
  },
  {
   "cell_type": "code",
   "execution_count": null,
   "id": "54322ee5",
   "metadata": {},
   "outputs": [],
   "source": []
  },
  {
   "cell_type": "code",
   "execution_count": null,
   "id": "aff0ee29",
   "metadata": {},
   "outputs": [],
   "source": []
  },
  {
   "cell_type": "code",
   "execution_count": null,
   "id": "09a7065f",
   "metadata": {},
   "outputs": [],
   "source": []
  },
  {
   "cell_type": "code",
   "execution_count": null,
   "id": "137349d4",
   "metadata": {},
   "outputs": [],
   "source": [
    "\n",
    "\n"
   ]
  },
  {
   "cell_type": "code",
   "execution_count": null,
   "id": "3c24b297",
   "metadata": {},
   "outputs": [],
   "source": []
  },
  {
   "cell_type": "code",
   "execution_count": null,
   "id": "1f666104",
   "metadata": {},
   "outputs": [],
   "source": []
  },
  {
   "cell_type": "code",
   "execution_count": null,
   "id": "95f4d9c7",
   "metadata": {},
   "outputs": [],
   "source": []
  },
  {
   "cell_type": "code",
   "execution_count": null,
   "id": "5468b829",
   "metadata": {},
   "outputs": [],
   "source": []
  },
  {
   "cell_type": "code",
   "execution_count": null,
   "id": "a34dcee5",
   "metadata": {},
   "outputs": [],
   "source": []
  },
  {
   "cell_type": "code",
   "execution_count": null,
   "id": "eba8f03a",
   "metadata": {},
   "outputs": [],
   "source": []
  },
  {
   "cell_type": "code",
   "execution_count": null,
   "id": "88b618f4",
   "metadata": {},
   "outputs": [],
   "source": []
  },
  {
   "cell_type": "code",
   "execution_count": null,
   "id": "eecc4f0a",
   "metadata": {},
   "outputs": [],
   "source": []
  },
  {
   "cell_type": "code",
   "execution_count": null,
   "id": "a4d22652",
   "metadata": {},
   "outputs": [],
   "source": []
  },
  {
   "cell_type": "code",
   "execution_count": null,
   "id": "47810bbd",
   "metadata": {},
   "outputs": [],
   "source": []
  }
 ],
 "metadata": {
  "kernelspec": {
   "display_name": "Python 3",
   "language": "python",
   "name": "python3"
  },
  "language_info": {
   "codemirror_mode": {
    "name": "ipython",
    "version": 3
   },
   "file_extension": ".py",
   "mimetype": "text/x-python",
   "name": "python",
   "nbconvert_exporter": "python",
   "pygments_lexer": "ipython3",
   "version": "3.8.8"
  }
 },
 "nbformat": 4,
 "nbformat_minor": 5
}
