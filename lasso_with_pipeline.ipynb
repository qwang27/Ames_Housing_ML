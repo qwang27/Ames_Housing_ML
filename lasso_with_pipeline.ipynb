{
 "cells": [
  {
   "cell_type": "code",
   "execution_count": 1,
   "id": "12a9284e",
   "metadata": {},
   "outputs": [
    {
     "name": "stdout",
     "output_type": "stream",
     "text": [
      "Current working directory: /Users/chereowang27/NYCDSA/Machine_Learning_I/Machine_Learning_Project/Ames_Housing_ML\n"
     ]
    },
    {
     "data": {
      "text/plain": [
       "(2530, 83)"
      ]
     },
     "execution_count": 1,
     "metadata": {},
     "output_type": "execute_result"
    }
   ],
   "source": [
    "import os\n",
    "import pandas as pd\n",
    "import numpy as np\n",
    "from datetime import datetime\n",
    "from scipy import stats\n",
    "import matplotlib\n",
    "import matplotlib.pyplot as plt\n",
    "import plotly.express as px\n",
    "import seaborn as sns\n",
    "\n",
    "%matplotlib inline\n",
    "cwd = os.getcwd()\n",
    "print(\"Current working directory: {0}\".format(cwd))\n",
    "\n",
    "hp = pd.read_csv(\"./data/HousePrice2.csv\", index_col = 0)\n",
    "hp_res= hp[hp['MSZoning'].isin(['FV','RH','RL','RM'])]\n",
    "hp_res = hp_res.dropna()\n",
    "hp_res.shape"
   ]
  },
  {
   "cell_type": "code",
   "execution_count": 2,
   "id": "7a1052de",
   "metadata": {},
   "outputs": [],
   "source": [
    "hp_res1 = hp_res.drop(['MapRefNo','PID', 'Prop_Addr'], \\\n",
    "                               axis = 1)\n",
    "num_features = hp_res1._get_numeric_data()  \\\n",
    " .drop(['MSSubClass','latitude','longitude','Unnamed: 0.1'], axis = 1)\n",
    "num_features['bath'] = num_features['FullBath'] + 0.5*num_features['HalfBath']\n",
    "numCol = num_features.columns"
   ]
  },
  {
   "cell_type": "code",
   "execution_count": 3,
   "id": "a5c205d7",
   "metadata": {},
   "outputs": [
    {
     "data": {
      "text/plain": [
       "Index(['MSSubClass', 'MSZoning', 'Street', 'LotShape', 'LandContour',\n",
       "       'Utilities', 'LotConfig', 'LandSlope', 'Neighborhood', 'Condition1',\n",
       "       'Condition2', 'BldgType', 'HouseStyle', 'RoofStyle', 'RoofMatl',\n",
       "       'Exterior1st', 'Exterior2nd', 'MasVnrType', 'ExterQual', 'ExterCond',\n",
       "       'Foundation', 'BsmtQual', 'BsmtCond', 'BsmtExposure', 'BsmtFinType1',\n",
       "       'BsmtFinType2', 'Heating', 'HeatingQC', 'CentralAir', 'Electrical',\n",
       "       'KitchenQual', 'Functional', 'FireplaceQu', 'GarageType',\n",
       "       'GarageFinish', 'GarageQual', 'GarageCond', 'PavedDrive', 'SaleType',\n",
       "       'SaleCondition'],\n",
       "      dtype='object')"
      ]
     },
     "execution_count": 3,
     "metadata": {},
     "output_type": "execute_result"
    }
   ],
   "source": [
    "col = hp_res1.columns\n",
    "catCol = [col for col in hp_res1.columns if col not in num_features.columns]\n",
    "cat_features = hp_res[catCol].drop(['address', 'latitude', 'longitude','Unnamed: 0.1'],axis = 1)\n",
    "cat_features.columns"
   ]
  },
  {
   "cell_type": "code",
   "execution_count": 4,
   "id": "f41f9ec3",
   "metadata": {},
   "outputs": [],
   "source": [
    "features = pd.concat([num_features, cat_features], axis = 1) \\\n",
    "           .drop(['FullBath', 'HalfBath', \\\n",
    "                  'BsmtFullBath', 'BsmtHalfBath', \\\n",
    "                  'BsmtFinSF1','SalePrice','ExterQual', \\\n",
    "                  'Condition1','Condition2', \\\n",
    "                  'BsmtFinType1','BsmtFinType2', \\\n",
    "                  'BsmtQual', 'GarageQual','MoSold',   \\\n",
    "                  'BsmtFinSF2', 'BsmtUnfSF'],axis = 1)"
   ]
  },
  {
   "cell_type": "code",
   "execution_count": 5,
   "id": "a90373dd",
   "metadata": {},
   "outputs": [],
   "source": [
    "nb = features['Neighborhood'].unique()\n",
    "def label_nb(row):\n",
    "    if row['Neighborhood'] in (['NridgHt','NoRidge','Veenker','StoneBr']):      \n",
    "        return 'N'\n",
    "    if row['Neighborhood']      \\\n",
    "             in (['Blmngtn','Gilbert','OldTown', 'NWAmes','NAmes','Blmngtn','BrDale','Somerst','BrkSide','Greens','NPkVill']):\n",
    "        return 'NE'\n",
    "    if row['Neighborhood']      \\\n",
    "            in (['CollgCr','SWISU', 'Edwards','SawyerW','Sawyer','ClearCr']):\n",
    "        return 'W'                      \n",
    "    if row['Neighborhood'] in (['Crawfor','MeadowV','Timber','Mitchel','IDOTRR']):     \n",
    "        return 'S'\n",
    "    \n",
    "features['Location']=features.apply(lambda row: label_nb(row), axis = 1)\n",
    "features = features.drop(['Neighborhood'], axis = 1)\n",
    "features1 = features    "
   ]
  },
  {
   "cell_type": "code",
   "execution_count": 6,
   "id": "6496b1a4",
   "metadata": {},
   "outputs": [],
   "source": [
    "catCol = [col for col in features.columns if col not in num_features.columns]\n",
    "features= pd.get_dummies(features, columns = catCol, drop_first = True)\n",
    "\n",
    "y = hp_res['SalePrice']\n",
    "hp_res['log_Price'] = np.log10(hp_res['SalePrice'])\n",
    "logy = hp_res['log_Price']"
   ]
  },
  {
   "cell_type": "code",
   "execution_count": 7,
   "id": "e0483e72",
   "metadata": {},
   "outputs": [],
   "source": [
    "from sklearn import linear_model, datasets\n",
    "from sklearn.linear_model import LinearRegression, Ridge, Lasso, ElasticNet\n",
    "from sklearn.pipeline import Pipeline\n",
    "from sklearn.preprocessing import StandardScaler\n",
    "import time\n",
    "\n",
    "lasso = Lasso()\n",
    "\n",
    "from sklearn import datasets\n",
    "from sklearn.model_selection import train_test_split, KFold, GridSearchCV\n",
    "# X_train, X_test, y_train, y_test = train_test_split(features, y, test_size = 0.3, random_state = 0)\n",
    "\n",
    "X_train_log, X_test_log, y_train_log, y_test_log = train_test_split(features, logy, test_size = 0.3, random_state = 0)"
   ]
  },
  {
   "cell_type": "code",
   "execution_count": 8,
   "id": "6df5b0d7",
   "metadata": {},
   "outputs": [
    {
     "name": "stdout",
     "output_type": "stream",
     "text": [
      "Estimator which gave the highest score:  Pipeline(steps=[('standardize', StandardScaler()),\n",
      "                ('lasso', Lasso(alpha=0.001))])\n",
      "Mean cross-validated score of the best_estimator:  0.9055659813238602\n",
      "The best parameters are:  {'lasso__alpha': 0.001}\n"
     ]
    }
   ],
   "source": [
    "from sklearn.pipeline import Pipeline\n",
    "from sklearn.preprocessing import StandardScaler\n",
    "\n",
    "lasso_pipe = Pipeline([\n",
    "    ('standardize', StandardScaler()),\n",
    "    ('lasso',lasso)\n",
    "])\n",
    "params = {\n",
    "#     'lasso__alpha': [0.0001, 0.001, 0.1, 1, 10]      .001\n",
    "     'lasso__alpha': np.logspace(-4,-3,100)        # .001\n",
    "#    'lasso_max_iter': [5000],\n",
    "     }\n",
    "kfold = KFold(n_splits = 3, shuffle = True)\n",
    "gs_log = GridSearchCV(lasso_pipe, param_grid = params, scoring = 'r2', cv = kfold)\n",
    "\n",
    "start = time.time()\n",
    "gs_log.fit(X_train_log, y_train_log)\n",
    "print(\"Estimator which gave the highest score: \", gs_log.best_estimator_)\n",
    "print(\"Mean cross-validated score of the best_estimator: \", gs_log.best_score_)\n",
    "print(\"The best parameters are: \", gs_log.best_params_)"
   ]
  },
  {
   "cell_type": "code",
   "execution_count": 10,
   "id": "05278e67",
   "metadata": {},
   "outputs": [
    {
     "data": {
      "text/plain": [
       "{'GrLivArea': 0.00012383343239514514,\n",
       " 'LotFrontage': 0.0002889119337781485,\n",
       " 'LotArea': 1.1357568257828122e-06,\n",
       " 'OverallQual': 0.03057709372225077,\n",
       " 'OverallCond': 0.023207193266732394,\n",
       " 'YearBuilt': 0.0012315660557834238,\n",
       " 'YearRemodAdd': 0.0004262676047731229,\n",
       " 'MasVnrArea': 1.1760180811550026e-05,\n",
       " 'TotalBsmtSF': 6.351998014396667e-05,\n",
       " '1stFlrSF': 2.5584450238795576e-06,\n",
       " '2ndFlrSF': 1.5091814173411723e-09,\n",
       " 'LowQualFinSF': -5.740842740062309e-05,\n",
       " 'BedroomAbvGr': -0.00892604052556152,\n",
       " 'KitchenAbvGr': -0.007951522782598995,\n",
       " 'Fireplaces': 0.014322216092797919,\n",
       " 'GarageYrBlt': 1.1105440628857978e-05,\n",
       " 'GarageArea': 5.4634285913836896e-05,\n",
       " 'WoodDeckSF': 3.590839775775118e-05,\n",
       " 'OpenPorchSF': 1.8579607697406234e-05,\n",
       " 'EnclosedPorch': 8.382629223588967e-05,\n",
       " '3SsnPorch': -7.4158469301506516e-06,\n",
       " 'ScreenPorch': 0.0001297264449204723,\n",
       " 'PoolArea': -7.125908366843218e-05,\n",
       " 'MiscVal': -6.684619242556991e-07,\n",
       " 'YrSold': -0.0008701706577766966,\n",
       " 'MSSubClass_30': -0.0012945798267880626,\n",
       " 'MSSubClass_160': -0.004440755198102562,\n",
       " 'MSZoning_RM': -0.02741709397990581,\n",
       " 'RoofStyle_Hip': 0.0012175852737479906,\n",
       " 'Foundation_PConc': 0.009660869375028755,\n",
       " 'BsmtExposure_Gd': 0.008195500106617879,\n",
       " 'BsmtExposure_No': -0.00652348929489293,\n",
       " 'HeatingQC_TA': -0.008565735507142272,\n",
       " 'Functional_Typ': 0.006482415443962202,\n",
       " 'FireplaceQu_Gd': 0.0011086853386951627,\n",
       " 'PavedDrive_Y': 0.002987845151600446,\n",
       " 'Location_NE': -0.0008598210634877139,\n",
       " 'Location_S': 0.0020259426541328644,\n",
       " 'Location_W': -0.001298659209619587}"
      ]
     },
     "execution_count": 10,
     "metadata": {},
     "output_type": "execute_result"
    }
   ],
   "source": [
    "# Run Lasso Regression with the best alpha from Grid search .001\n",
    "\n",
    "#for alpha in alphas:\n",
    "lasso.set_params(alpha = .001, tol = .01, max_iter = 10000)\n",
    "lasso.fit(X_train_log, y_train_log)\n",
    "lasso_coefs = dict(zip(features.columns, lasso.coef_))\n",
    "lasso_coefs\n",
    "\n",
    "lasso_coefs_keep = {k:v for (k,v) in lasso_coefs.items() if v !=0}\n",
    "lasso_coefs_keep\n",
    " "
   ]
  },
  {
   "cell_type": "code",
   "execution_count": 11,
   "id": "fc3269bd",
   "metadata": {},
   "outputs": [
    {
     "data": {
      "text/plain": [
       "0.9087327226485834"
      ]
     },
     "execution_count": 11,
     "metadata": {},
     "output_type": "execute_result"
    }
   ],
   "source": [
    "lasso.score(X_train_log, y_train_log)"
   ]
  },
  {
   "cell_type": "code",
   "execution_count": 12,
   "id": "4f41f013",
   "metadata": {},
   "outputs": [
    {
     "data": {
      "text/plain": [
       "0.91610730019575"
      ]
     },
     "execution_count": 12,
     "metadata": {},
     "output_type": "execute_result"
    }
   ],
   "source": [
    "lasso.score(X_test_log, y_test_log)"
   ]
  },
  {
   "cell_type": "code",
   "execution_count": null,
   "id": "878dd870",
   "metadata": {},
   "outputs": [],
   "source": []
  },
  {
   "cell_type": "code",
   "execution_count": null,
   "id": "d992b0c2",
   "metadata": {},
   "outputs": [],
   "source": []
  },
  {
   "cell_type": "code",
   "execution_count": null,
   "id": "7c14db30",
   "metadata": {},
   "outputs": [],
   "source": []
  }
 ],
 "metadata": {
  "kernelspec": {
   "display_name": "Python 3",
   "language": "python",
   "name": "python3"
  },
  "language_info": {
   "codemirror_mode": {
    "name": "ipython",
    "version": 3
   },
   "file_extension": ".py",
   "mimetype": "text/x-python",
   "name": "python",
   "nbconvert_exporter": "python",
   "pygments_lexer": "ipython3",
   "version": "3.8.8"
  }
 },
 "nbformat": 4,
 "nbformat_minor": 5
}
