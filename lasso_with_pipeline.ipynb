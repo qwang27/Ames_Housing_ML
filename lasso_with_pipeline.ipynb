{
 "cells": [
  {
   "cell_type": "code",
   "execution_count": 4,
   "id": "12a9284e",
   "metadata": {},
   "outputs": [
    {
     "name": "stdout",
     "output_type": "stream",
     "text": [
      "Current working directory: /Users/chereowang27/NYCDSA/Machine_Learning_I/Machine_Learning_Project/Ames_Housing_ML\n"
     ]
    },
    {
     "data": {
      "text/plain": [
       "(2563, 76)"
      ]
     },
     "execution_count": 4,
     "metadata": {},
     "output_type": "execute_result"
    }
   ],
   "source": [
    "import os\n",
    "import pandas as pd\n",
    "import numpy as np\n",
    "from datetime import datetime\n",
    "from scipy import stats\n",
    "import matplotlib\n",
    "import matplotlib.pyplot as plt\n",
    "import plotly.express as px\n",
    "import seaborn as sns\n",
    "\n",
    "%matplotlib inline\n",
    "cwd = os.getcwd()\n",
    "print(\"Current working directory: {0}\".format(cwd))\n",
    "\n",
    "hp = pd.read_csv(\"./data/HousePrice1_no_outlier.csv\", index_col = 0)\n",
    "hp_res= hp[hp['MSZoning'].isin(['FV','RH','RL','RM'])]\n",
    "hp_res = hp_res.dropna()\n",
    "hp_res.shape"
   ]
  },
  {
   "cell_type": "code",
   "execution_count": 5,
   "id": "7a1052de",
   "metadata": {},
   "outputs": [],
   "source": [
    "hp_res1 = hp_res.drop(['MapRefNo','PID', 'Prop_Addr'], \\\n",
    "                               axis = 1)\n",
    "num_features = hp_res1._get_numeric_data()  \\\n",
    " .drop(['MSSubClass'], axis = 1)\n",
    "num_features['bath'] = num_features['FullBath'] + 0.5*num_features['HalfBath']\n",
    "numCol = num_features.columns"
   ]
  },
  {
   "cell_type": "code",
   "execution_count": 7,
   "id": "a5c205d7",
   "metadata": {},
   "outputs": [
    {
     "data": {
      "text/plain": [
       "Index(['MSSubClass', 'MSZoning', 'Street', 'LotShape', 'LandContour',\n",
       "       'Utilities', 'LotConfig', 'LandSlope', 'Neighborhood', 'Condition1',\n",
       "       'Condition2', 'BldgType', 'HouseStyle', 'RoofStyle', 'RoofMatl',\n",
       "       'Exterior1st', 'Exterior2nd', 'MasVnrType', 'ExterQual', 'ExterCond',\n",
       "       'Foundation', 'BsmtQual', 'BsmtCond', 'BsmtExposure', 'BsmtFinType1',\n",
       "       'BsmtFinType2', 'Heating', 'HeatingQC', 'CentralAir', 'Electrical',\n",
       "       'KitchenQual', 'Functional', 'FireplaceQu', 'GarageType',\n",
       "       'GarageFinish', 'GarageQual', 'GarageCond', 'PavedDrive', 'SaleType',\n",
       "       'SaleCondition', 'mo_Yr_sold'],\n",
       "      dtype='object')"
      ]
     },
     "execution_count": 7,
     "metadata": {},
     "output_type": "execute_result"
    }
   ],
   "source": [
    "col = hp_res1.columns\n",
    "catCol = [col for col in hp_res1.columns if col not in num_features.columns]\n",
    "cat_features = hp_res[catCol]\n",
    "cat_features.columns"
   ]
  },
  {
   "cell_type": "code",
   "execution_count": 17,
   "id": "f41f9ec3",
   "metadata": {},
   "outputs": [],
   "source": [
    "features = pd.concat([num_features, cat_features], axis = 1) \\\n",
    "           .drop(['FullBath', 'HalfBath', \\\n",
    "                  'BsmtFullBath', 'BsmtHalfBath', \\\n",
    "                  'BsmtFinSF1','SalePrice','ExterQual', \\\n",
    "                  'Condition1','Condition2', \\\n",
    "                  'BsmtFinType1','BsmtFinType2', \\\n",
    "                  'BsmtQual', 'GarageQual','MoSold','price_per_sqft'],axis = 1)"
   ]
  },
  {
   "cell_type": "code",
   "execution_count": 18,
   "id": "a90373dd",
   "metadata": {},
   "outputs": [],
   "source": [
    "nb = features['Neighborhood'].unique()\n",
    "def label_nb(row):\n",
    "    if row['Neighborhood'] in (['NridgHt','NoRidge','Veenker','StoneBr']):      \n",
    "        return 'N'\n",
    "    if row['Neighborhood']      \\\n",
    "             in (['Blmngtn','Gilbert','OldTown', 'NWAmes','NAmes','Blmngtn','BrDale','Somerst','BrkSide','Greens','NPkVill']):\n",
    "        return 'NE'\n",
    "    if row['Neighborhood']      \\\n",
    "            in (['CollgCr','SWISU', 'Edwards','SawyerW','Sawyer','ClearCr']):\n",
    "        return 'W'                      \n",
    "    if row['Neighborhood'] in (['Crawfor','MeadowV','Timber','Mitchel','IDOTRR']):     \n",
    "        return 'S'\n",
    "    \n",
    "features['Location']=features.apply(lambda row: label_nb(row), axis = 1)\n",
    "features = features.drop(['Neighborhood'], axis = 1)\n",
    "features1 = features    "
   ]
  },
  {
   "cell_type": "code",
   "execution_count": 19,
   "id": "6496b1a4",
   "metadata": {},
   "outputs": [],
   "source": [
    "catCol = [col for col in features1.columns if col not in num_features.columns]\n",
    "features1= pd.get_dummies(features, columns = catCol, drop_first = True)\n",
    "\n",
    "y = hp_res['SalePrice']\n",
    "hp_res['log_Price'] = np.log10(hp_res['SalePrice'])\n",
    "logy = hp_res['log_Price']"
   ]
  },
  {
   "cell_type": "code",
   "execution_count": 20,
   "id": "e0483e72",
   "metadata": {},
   "outputs": [],
   "source": [
    "from sklearn import linear_model, datasets\n",
    "from sklearn.linear_model import LinearRegression, Ridge, Lasso, ElasticNet\n",
    "from sklearn.pipeline import Pipeline\n",
    "from sklearn.preprocessing import StandardScaler\n",
    "import time\n",
    "\n",
    "lasso = Lasso()\n",
    "\n",
    "from sklearn import datasets\n",
    "from sklearn.model_selection import train_test_split, KFold, GridSearchCV\n",
    "# X_train, X_test, y_train, y_test = train_test_split(features, y, test_size = 0.3, random_state = 0)\n",
    "\n",
    "X_train_log, X_test_log, y_train_log, y_test_log = train_test_split(features1, logy, test_size = 0.3, random_state = 0)"
   ]
  },
  {
   "cell_type": "code",
   "execution_count": 21,
   "id": "6df5b0d7",
   "metadata": {},
   "outputs": [
    {
     "name": "stdout",
     "output_type": "stream",
     "text": [
      "Estimator which gave the highest score:  Pipeline(steps=[('standardize', StandardScaler()),\n",
      "                ('lasso', Lasso(alpha=0.0013))])\n",
      "Mean cross-validated score of the best_estimator:  0.9185283488639505\n",
      "The best parameters are:  {'lasso__alpha': 0.0013}\n"
     ]
    }
   ],
   "source": [
    "from sklearn.pipeline import Pipeline\n",
    "from sklearn.preprocessing import StandardScaler\n",
    "\n",
    "lasso_pipe = Pipeline([\n",
    "    ('standardize', StandardScaler()),\n",
    "    ('lasso',lasso)\n",
    "])\n",
    "params = {\n",
    " #    'lasso__alpha': [0.0001, 0.001, 0.1, 1, 10]      #.001\n",
    "        'lasso__alpha': np.linspace(.0013,.0016,1000)\n",
    "#    'lasso_max_iter': linspace,\n",
    "     }\n",
    "kfold = KFold(n_splits = 3, shuffle = True)\n",
    "gs_ls = GridSearchCV(lasso_pipe, param_grid = params, scoring = 'r2', cv = kfold)\n",
    "\n",
    "start = time.time()\n",
    "gs_ls.fit(X_train_log, y_train_log)\n",
    "print(\"Estimator which gave the highest score: \", gs_ls.best_estimator_)\n",
    "print(\"Mean cross-validated score of the best_estimator: \", gs_ls.best_score_)\n",
    "print(\"The best parameters are: \", gs_ls.best_params_)"
   ]
  },
  {
   "cell_type": "code",
   "execution_count": 22,
   "id": "05278e67",
   "metadata": {},
   "outputs": [
    {
     "data": {
      "text/plain": [
       "{'GrLivArea': 8.971943753522242e-05,\n",
       " 'LotFrontage': 0.00028367910667190997,\n",
       " 'LotArea': 2.4778594340942536e-06,\n",
       " 'OverallQual': 0.029614544427357066,\n",
       " 'OverallCond': 0.018571995507813598,\n",
       " 'YearBuilt': 0.001249122414984387,\n",
       " 'YearRemodAdd': 0.0005379974168210372,\n",
       " 'MasVnrArea': 8.860306797844538e-06,\n",
       " 'TotalBsmtSF': 6.85311786465028e-05,\n",
       " '1stFlrSF': 3.114291124115897e-05,\n",
       " '2ndFlrSF': 2.8823074017239425e-05,\n",
       " 'BedroomAbvGr': -0.009439786214190855,\n",
       " 'KitchenAbvGr': -0.0013537944618683495,\n",
       " 'Fireplaces': 0.012079967501447079,\n",
       " 'GarageYrBlt': 1.4979883270107928e-05,\n",
       " 'GarageArea': 6.132897028824997e-05,\n",
       " 'WoodDeckSF': 3.88444996210672e-05,\n",
       " 'EnclosedPorch': 7.9386537216412e-05,\n",
       " '3SsnPorch': 5.4683675736742255e-05,\n",
       " 'ScreenPorch': 0.00010636397115777976,\n",
       " 'MiscVal': -1.7952016109901393e-06,\n",
       " 'YrSold': -0.0003671302440567941,\n",
       " 'BsmtCond': -0.015655719181405132}"
      ]
     },
     "execution_count": 22,
     "metadata": {},
     "output_type": "execute_result"
    }
   ],
   "source": [
    "# Run Lasso Regression with the best alpha from Grid search .001\n",
    "\n",
    "#for alpha in alphas:\n",
    "lasso.set_params(alpha = .0013, tol = .01, max_iter = 10000)\n",
    "lasso.fit(X_train_log, y_train_log)\n",
    "lasso_coefs = dict(zip(features.columns, lasso.coef_))\n",
    "lasso_coefs\n",
    "\n",
    "lasso_coefs_keep = {k:v for (k,v) in lasso_coefs.items() if v !=0}\n",
    "lasso_coefs_keep\n",
    " "
   ]
  },
  {
   "cell_type": "code",
   "execution_count": 23,
   "id": "fc3269bd",
   "metadata": {},
   "outputs": [
    {
     "name": "stdout",
     "output_type": "stream",
     "text": [
      "Lasso Training Score: 0.915884\n"
     ]
    }
   ],
   "source": [
    "print(\"Lasso Training Score: %f\" %lasso.score(X_train_log, y_train_log))"
   ]
  },
  {
   "cell_type": "code",
   "execution_count": 24,
   "id": "4f41f013",
   "metadata": {},
   "outputs": [
    {
     "name": "stdout",
     "output_type": "stream",
     "text": [
      "Lasso Test Score: 0.909480\n"
     ]
    }
   ],
   "source": [
    "print(\"Lasso Test Score: %f\" %lasso.score(X_test_log, y_test_log))"
   ]
  },
  {
   "cell_type": "code",
   "execution_count": 32,
   "id": "1d7ec8c5",
   "metadata": {},
   "outputs": [
    {
     "data": {
      "text/plain": [
       "{'GrLivArea': 8.971943753522242e-05,\n",
       " 'LotFrontage': 0.00028367910667190997,\n",
       " 'LotArea': 2.4778594340942536e-06,\n",
       " 'OverallQual': 0.029614544427357066,\n",
       " 'OverallCond': 0.018571995507813598,\n",
       " 'YearBuilt': 0.001249122414984387,\n",
       " 'YearRemodAdd': 0.0005379974168210372,\n",
       " 'MasVnrArea': 8.860306797844538e-06,\n",
       " 'TotalBsmtSF': 6.85311786465028e-05,\n",
       " '1stFlrSF': 3.114291124115897e-05,\n",
       " '2ndFlrSF': 2.8823074017239425e-05,\n",
       " 'BedroomAbvGr': -0.009439786214190855,\n",
       " 'KitchenAbvGr': -0.0013537944618683495,\n",
       " 'Fireplaces': 0.012079967501447079,\n",
       " 'GarageYrBlt': 1.4979883270107928e-05,\n",
       " 'GarageArea': 6.132897028824997e-05,\n",
       " 'WoodDeckSF': 3.88444996210672e-05,\n",
       " 'EnclosedPorch': 7.9386537216412e-05,\n",
       " '3SsnPorch': 5.4683675736742255e-05,\n",
       " 'ScreenPorch': 0.00010636397115777976,\n",
       " 'MiscVal': -1.7952016109901393e-06,\n",
       " 'YrSold': -0.0003671302440567941,\n",
       " 'BsmtCond': -0.015655719181405132}"
      ]
     },
     "execution_count": 32,
     "metadata": {},
     "output_type": "execute_result"
    }
   ],
   "source": [
    "lasso_coefs_keep"
   ]
  },
  {
   "cell_type": "code",
   "execution_count": 35,
   "id": "7c14db30",
   "metadata": {},
   "outputs": [],
   "source": [
    "coefs = pd.DataFrame.from_dict(lasso_coefs_keep, orient = 'index', columns = ['parameter value'])"
   ]
  },
  {
   "cell_type": "code",
   "execution_count": 37,
   "id": "bd023948",
   "metadata": {},
   "outputs": [
    {
     "data": {
      "text/plain": [
       "<AxesSubplot:>"
      ]
     },
     "execution_count": 37,
     "metadata": {},
     "output_type": "execute_result"
    },
    {
     "data": {
      "image/png": "[encoded data removed]",
      "text/plain": [
       "<Figure size 432x288 with 1 Axes>"
      ]
     },
     "metadata": {
      "needs_background": "light"
     },
     "output_type": "display_data"
    }
   ],
   "source": [
    "coefs.plot.barh()\n"
   ]
  },
  {
   "cell_type": "code",
   "execution_count": null,
   "id": "59c06a9b",
   "metadata": {},
   "outputs": [],
   "source": []
  },
  {
   "cell_type": "code",
   "execution_count": null,
   "id": "ab81de64",
   "metadata": {},
   "outputs": [],
   "source": []
  }
 ],
 "metadata": {
  "kernelspec": {
   "display_name": "Python 3",
   "language": "python",
   "name": "python3"
  },
  "language_info": {
   "codemirror_mode": {
    "name": "ipython",
    "version": 3
   },
   "file_extension": ".py",
   "mimetype": "text/x-python",
   "name": "python",
   "nbconvert_exporter": "python",
   "pygments_lexer": "ipython3",
   "version": "3.8.8"
  }
 },
 "nbformat": 4,
 "nbformat_minor": 5
}
