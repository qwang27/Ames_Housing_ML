{
 "cells": [
  {
   "cell_type": "code",
   "execution_count": 30,
   "id": "12a9284e",
   "metadata": {},
   "outputs": [
    {
     "name": "stdout",
     "output_type": "stream",
     "text": [
      "Current working directory: /Users/chereowang27/NYCDSA/Machine_Learning_I/Machine_Learning_Project/Ames_Housing_ML\n"
     ]
    },
    {
     "data": {
      "text/plain": [
       "(2530, 83)"
      ]
     },
     "execution_count": 30,
     "metadata": {},
     "output_type": "execute_result"
    }
   ],
   "source": [
    "import os\n",
    "import pandas as pd\n",
    "import numpy as np\n",
    "from datetime import datetime\n",
    "from scipy import stats\n",
    "import matplotlib\n",
    "import matplotlib.pyplot as plt\n",
    "import plotly.express as px\n",
    "import seaborn as sns\n",
    "\n",
    "%matplotlib inline\n",
    "cwd = os.getcwd()\n",
    "print(\"Current working directory: {0}\".format(cwd))\n",
    "\n",
    "hp = pd.read_csv(\"./data/HousePrice2.csv\", index_col = 0)\n",
    "hp_res= hp[hp['MSZoning'].isin(['FV','RH','RL','RM'])]\n",
    "hp_res = hp_res.dropna()\n",
    "hp_res.shape"
   ]
  },
  {
   "cell_type": "code",
   "execution_count": 31,
   "id": "7a1052de",
   "metadata": {},
   "outputs": [],
   "source": [
    "hp_res1 = hp_res.drop(['MapRefNo','PID', 'Prop_Addr'], \\\n",
    "                               axis = 1)\n",
    "num_features = hp_res1._get_numeric_data()  \\\n",
    " .drop(['MSSubClass','latitude','longitude','Unnamed: 0.1'], axis = 1)\n",
    "num_features['bath'] = num_features['FullBath'] + 0.5*num_features['HalfBath']\n",
    "numCol = num_features.columns"
   ]
  },
  {
   "cell_type": "code",
   "execution_count": 32,
   "id": "a5c205d7",
   "metadata": {},
   "outputs": [
    {
     "data": {
      "text/plain": [
       "Index(['MSSubClass', 'MSZoning', 'Street', 'LotShape', 'LandContour',\n",
       "       'Utilities', 'LotConfig', 'LandSlope', 'Neighborhood', 'Condition1',\n",
       "       'Condition2', 'BldgType', 'HouseStyle', 'RoofStyle', 'RoofMatl',\n",
       "       'Exterior1st', 'Exterior2nd', 'MasVnrType', 'ExterQual', 'ExterCond',\n",
       "       'Foundation', 'BsmtQual', 'BsmtCond', 'BsmtExposure', 'BsmtFinType1',\n",
       "       'BsmtFinType2', 'Heating', 'HeatingQC', 'CentralAir', 'Electrical',\n",
       "       'KitchenQual', 'Functional', 'FireplaceQu', 'GarageType',\n",
       "       'GarageFinish', 'GarageQual', 'GarageCond', 'PavedDrive', 'SaleType',\n",
       "       'SaleCondition'],\n",
       "      dtype='object')"
      ]
     },
     "execution_count": 32,
     "metadata": {},
     "output_type": "execute_result"
    }
   ],
   "source": [
    "col = hp_res1.columns\n",
    "catCol = [col for col in hp_res1.columns if col not in num_features.columns]\n",
    "cat_features = hp_res[catCol].drop(['address', 'latitude', 'longitude','Unnamed: 0.1'],axis = 1)\n",
    "cat_features.columns"
   ]
  },
  {
   "cell_type": "code",
   "execution_count": 33,
   "id": "f41f9ec3",
   "metadata": {},
   "outputs": [],
   "source": [
    "features = pd.concat([num_features, cat_features], axis = 1) \\\n",
    "           .drop(['FullBath', 'HalfBath', \\\n",
    "                  'BsmtFullBath', 'BsmtHalfBath', \\\n",
    "                  'BsmtFinSF1','SalePrice','ExterQual', \\\n",
    "                  'Condition1','Condition2', \\\n",
    "                  'BsmtFinType1','BsmtFinType2', \\\n",
    "                  'BsmtQual', 'GarageQual','MoSold',   \\\n",
    "                  'BsmtFinSF2', 'BsmtUnfSF'],axis = 1)"
   ]
  },
  {
   "cell_type": "code",
   "execution_count": 34,
   "id": "a90373dd",
   "metadata": {},
   "outputs": [],
   "source": [
    "nb = features['Neighborhood'].unique()\n",
    "def label_nb(row):\n",
    "    if row['Neighborhood'] in (['NridgHt','NoRidge','Veenker','StoneBr']):      \n",
    "        return 'N'\n",
    "    if row['Neighborhood']      \\\n",
    "             in (['Blmngtn','Gilbert','OldTown', 'NWAmes','NAmes','Blmngtn','BrDale','Somerst','BrkSide','Greens','NPkVill']):\n",
    "        return 'NE'\n",
    "    if row['Neighborhood']      \\\n",
    "            in (['CollgCr','SWISU', 'Edwards','SawyerW','Sawyer','ClearCr']):\n",
    "        return 'W'                      \n",
    "    if row['Neighborhood'] in (['Crawfor','MeadowV','Timber','Mitchel','IDOTRR']):     \n",
    "        return 'S'\n",
    "    \n",
    "features['Location']=features.apply(lambda row: label_nb(row), axis = 1)\n",
    "features = features.drop(['Neighborhood'], axis = 1)\n",
    "features1 = features    "
   ]
  },
  {
   "cell_type": "code",
   "execution_count": 35,
   "id": "6496b1a4",
   "metadata": {},
   "outputs": [],
   "source": [
    "catCol = [col for col in features.columns if col not in num_features.columns]\n",
    "features= pd.get_dummies(features, columns = catCol, drop_first = True)\n",
    "\n",
    "y = hp_res['SalePrice']\n",
    "hp_res['log_Price'] = np.log10(hp_res['SalePrice'])\n",
    "logy = hp_res['log_Price']"
   ]
  },
  {
   "cell_type": "code",
   "execution_count": 36,
   "id": "e0483e72",
   "metadata": {},
   "outputs": [],
   "source": [
    "from sklearn import linear_model, datasets\n",
    "from sklearn.linear_model import LinearRegression, Ridge, Lasso, ElasticNet\n",
    "from sklearn.pipeline import Pipeline\n",
    "from sklearn.preprocessing import StandardScaler\n",
    "import time\n",
    "\n",
    "ridge = Ridge()\n",
    "lasso = Lasso()\n",
    "# net = ElasticNet()\n",
    "from sklearn import datasets\n",
    "from sklearn.model_selection import train_test_split, KFold, GridSearchCV\n",
    "# X_train, X_test, y_train, y_test = train_test_split(features, y, test_size = 0.3, random_state = 0)\n",
    "\n",
    "X_train_log, X_test_log, y_train_log, y_test_log = train_test_split(features, logy, test_size = 0.3, random_state = 0)"
   ]
  },
  {
   "cell_type": "code",
   "execution_count": 37,
   "id": "6df5b0d7",
   "metadata": {},
   "outputs": [
    {
     "name": "stdout",
     "output_type": "stream",
     "text": [
      "Estimator which gave the highest score:  Pipeline(steps=[('standardize', StandardScaler()),\n",
      "                ('lasso', Lasso(alpha=0.0006734150657750821))])\n",
      "Mean cross-validated score of the best_estimator:  0.908625587051581\n",
      "The best parameters are:  {'lasso__alpha': 0.0006734150657750821}\n"
     ]
    }
   ],
   "source": [
    "from sklearn.pipeline import Pipeline\n",
    "from sklearn.preprocessing import StandardScaler\n",
    "\n",
    "lasso_pipe = Pipeline([\n",
    "    ('standardize', StandardScaler()),\n",
    "    ('lasso',lasso)\n",
    "])\n",
    "params = {\n",
    "#     'lasso__alpha': [0.0001, 0.001, 0.1, 1, 10]      .001\n",
    "     'lasso__alpha': np.logspace(-4,-3,100)        # .001\n",
    "#    'lasso_max_iter': [5000],\n",
    "     }\n",
    "kfold = KFold(n_splits = 3, shuffle = True)\n",
    "gs_log = GridSearchCV(lasso_pipe, param_grid = params, scoring = 'r2', cv = kfold)\n",
    "\n",
    "start = time.time()\n",
    "gs_log.fit(X_train_log, y_train_log)\n",
    "print(\"Estimator which gave the highest score: \", gs_log.best_estimator_)\n",
    "print(\"Mean cross-validated score of the best_estimator: \", gs_log.best_score_)\n",
    "print(\"The best parameters are: \", gs_log.best_params_)"
   ]
  },
  {
   "cell_type": "code",
   "execution_count": 38,
   "id": "05278e67",
   "metadata": {},
   "outputs": [
    {
     "name": "stderr",
     "output_type": "stream",
     "text": [
      "/Users/chereowang27/opt/anaconda3/lib/python3.8/site-packages/sklearn/linear_model/_coordinate_descent.py:530: ConvergenceWarning: Objective did not converge. You might want to increase the number of iterations. Duality gap: 2.168649442268886, tolerance: 0.004849049232745547\n",
      "  model = cd_fast.enet_coordinate_descent(\n"
     ]
    },
    {
     "data": {
      "text/plain": [
       "{'GrLivArea': 0.00019163748117907289,\n",
       " 'LotFrontage': 0.00028904103169879666,\n",
       " 'LotArea': 1.1357983009707266e-06,\n",
       " 'OverallQual': 0.0305790731645165,\n",
       " 'OverallCond': 0.023206655847639535,\n",
       " 'YearBuilt': 0.0012317235675402983,\n",
       " 'YearRemodAdd': 0.0004262687109342517,\n",
       " 'MasVnrArea': 1.1759296623682326e-05,\n",
       " 'TotalBsmtSF': 6.351638997032007e-05,\n",
       " '1stFlrSF': -6.519813143370877e-05,\n",
       " '2ndFlrSF': -6.776185265256836e-05,\n",
       " 'LowQualFinSF': -0.00012520360882758538,\n",
       " 'BedroomAbvGr': -0.008936999929735467,\n",
       " 'KitchenAbvGr': -0.007960129311996281,\n",
       " 'Fireplaces': 0.014312593698608392,\n",
       " 'GarageYrBlt': 1.110772435366692e-05,\n",
       " 'GarageArea': 5.459894543550582e-05,\n",
       " 'WoodDeckSF': 3.589607311420987e-05,\n",
       " 'OpenPorchSF': 1.85295299616461e-05,\n",
       " 'EnclosedPorch': 8.382934734386028e-05,\n",
       " '3SsnPorch': -7.430699461557589e-06,\n",
       " 'ScreenPorch': 0.00012971487928604855,\n",
       " 'PoolArea': -7.12703109744648e-05,\n",
       " 'MiscVal': -6.686543760321962e-07,\n",
       " 'YrSold': -0.0008702650272686956,\n",
       " 'MSSubClass_30': -0.0012853507804278955,\n",
       " 'MSSubClass_160': -0.004440642382996633,\n",
       " 'MSZoning_RM': -0.02741556733458181,\n",
       " 'RoofStyle_Hip': 0.0012162078124800366,\n",
       " 'Foundation_PConc': 0.009650305380009185,\n",
       " 'BsmtExposure_Gd': 0.008191959467110417,\n",
       " 'BsmtExposure_No': -0.006523078765916137,\n",
       " 'HeatingQC_TA': -0.008562932842315938,\n",
       " 'Functional_Typ': 0.006489142612996431,\n",
       " 'FireplaceQu_Gd': 0.001107703177787368,\n",
       " 'PavedDrive_Y': 0.002985618580042412,\n",
       " 'Location_NE': -0.0008495673689339953,\n",
       " 'Location_S': 0.002035560987802183,\n",
       " 'Location_W': -0.0012872635834223925}"
      ]
     },
     "execution_count": 38,
     "metadata": {},
     "output_type": "execute_result"
    }
   ],
   "source": [
    "# Run Lasso Regression with the best alpha from Grid search .001\n",
    "\n",
    "#for alpha in alphas:\n",
    "lasso.set_params(alpha = .001)\n",
    "lasso.fit(X_train_log, y_train_log)\n",
    "lasso_coefs = dict(zip(features.columns, lasso.coef_))\n",
    "lasso_coefs\n",
    "\n",
    "lasso_coefs_keep = {k:v for (k,v) in lasso_coefs.items() if v !=0}\n",
    "lasso_coefs_keep\n",
    " "
   ]
  },
  {
   "cell_type": "code",
   "execution_count": null,
   "id": "fc3269bd",
   "metadata": {},
   "outputs": [],
   "source": []
  },
  {
   "cell_type": "code",
   "execution_count": null,
   "id": "4f41f013",
   "metadata": {},
   "outputs": [],
   "source": []
  },
  {
   "cell_type": "code",
   "execution_count": null,
   "id": "878dd870",
   "metadata": {},
   "outputs": [],
   "source": []
  },
  {
   "cell_type": "code",
   "execution_count": null,
   "id": "d992b0c2",
   "metadata": {},
   "outputs": [],
   "source": []
  },
  {
   "cell_type": "code",
   "execution_count": null,
   "id": "7c14db30",
   "metadata": {},
   "outputs": [],
   "source": []
  }
 ],
 "metadata": {
  "kernelspec": {
   "display_name": "Python 3",
   "language": "python",
   "name": "python3"
  },
  "language_info": {
   "codemirror_mode": {
    "name": "ipython",
    "version": 3
   },
   "file_extension": ".py",
   "mimetype": "text/x-python",
   "name": "python",
   "nbconvert_exporter": "python",
   "pygments_lexer": "ipython3",
   "version": "3.8.8"
  }
 },
 "nbformat": 4,
 "nbformat_minor": 5
}
