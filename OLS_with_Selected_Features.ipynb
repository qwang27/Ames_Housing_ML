{
 "cells": [
  {
   "cell_type": "code",
   "execution_count": 3,
   "id": "cf8f3f5b",
   "metadata": {},
   "outputs": [
    {
     "name": "stdout",
     "output_type": "stream",
     "text": [
      "Current working directory: /Users/chereowang27/NYCDSA/Machine_Learning_I/Machine_Learning_Project/Ames_Housing_ML\n"
     ]
    },
    {
     "data": {
      "text/plain": [
       "(2563, 76)"
      ]
     },
     "execution_count": 3,
     "metadata": {},
     "output_type": "execute_result"
    }
   ],
   "source": [
    "import os\n",
    "import pandas as pd\n",
    "import numpy as np\n",
    "from datetime import datetime\n",
    "from scipy import stats\n",
    "import matplotlib\n",
    "import matplotlib.pyplot as plt\n",
    "import plotly.express as px\n",
    "import seaborn as sns\n",
    "\n",
    "%matplotlib inline\n",
    "cwd = os.getcwd()\n",
    "print(\"Current working directory: {0}\".format(cwd))\n",
    "\n",
    "hp = pd.read_csv(\"~/NYCDSA/Machine_Learning_I/Machine_Learning_Project/Ames_Housing_ML/data/HousePrice1_no_outlier.csv\", \\\n",
    "                 index_col = 0)\n",
    "hp_res= hp[hp['MSZoning'].isin(['FV','RH','RL','RM'])]\n",
    "hp_res = hp_res.dropna()\n",
    "hp_res.shape"
   ]
  },
  {
   "cell_type": "code",
   "execution_count": 7,
   "id": "77935b65",
   "metadata": {},
   "outputs": [],
   "source": [
    "hp_res1 = hp_res.drop(['MapRefNo','PID', 'Prop_Addr'], \\\n",
    "                               axis = 1)\n",
    "num_features = hp_res1._get_numeric_data() \n",
    "num_features['bath'] = num_features['FullBath'] + 0.5*num_features['HalfBath']\n",
    "numCol = num_features.columns"
   ]
  },
  {
   "cell_type": "code",
   "execution_count": 8,
   "id": "73a6034c",
   "metadata": {},
   "outputs": [
    {
     "data": {
      "text/plain": [
       "Index(['MSZoning', 'Street', 'LotShape', 'LandContour', 'Utilities',\n",
       "       'LotConfig', 'LandSlope', 'Neighborhood', 'Condition1', 'Condition2',\n",
       "       'BldgType', 'HouseStyle', 'RoofStyle', 'RoofMatl', 'Exterior1st',\n",
       "       'Exterior2nd', 'MasVnrType', 'ExterQual', 'ExterCond', 'Foundation',\n",
       "       'BsmtQual', 'BsmtCond', 'BsmtExposure', 'BsmtFinType1', 'BsmtFinType2',\n",
       "       'Heating', 'HeatingQC', 'CentralAir', 'Electrical', 'KitchenQual',\n",
       "       'Functional', 'FireplaceQu', 'GarageType', 'GarageFinish', 'GarageQual',\n",
       "       'GarageCond', 'PavedDrive', 'SaleType', 'SaleCondition', 'mo_Yr_sold'],\n",
       "      dtype='object')"
      ]
     },
     "execution_count": 8,
     "metadata": {},
     "output_type": "execute_result"
    }
   ],
   "source": [
    "col = hp_res1.columns\n",
    "catCol = [col for col in hp_res1.columns if col not in num_features.columns]\n",
    "cat_features = hp_res[catCol]\n",
    "cat_features.columns"
   ]
  },
  {
   "cell_type": "code",
   "execution_count": 10,
   "id": "b6fb2440",
   "metadata": {},
   "outputs": [],
   "source": [
    "features = pd.concat([num_features, cat_features], axis = 1) \\\n",
    "           .drop(['FullBath', 'HalfBath', \\\n",
    "                  'BsmtFullBath', 'BsmtHalfBath', \\\n",
    "                  'BsmtFinSF1','SalePrice','ExterQual', \\\n",
    "                  'Condition1','Condition2', \\\n",
    "                  'BsmtFinType1','BsmtFinType2', \\\n",
    "                  'BsmtQual', 'GarageQual','MoSold'],axis = 1)"
   ]
  },
  {
   "cell_type": "code",
   "execution_count": 12,
   "id": "ffe49115",
   "metadata": {},
   "outputs": [],
   "source": [
    "# Feature Selection after lasso\n",
    "features = features[['GrLivArea', 'LotFrontage', 'LotArea', 'OverallQual', 'OverallCond', \\\n",
    "       'YearBuilt', 'YearRemodAdd', 'MasVnrArea', 'TotalBsmtSF', '1stFlrSF', \\\n",
    "       '2ndFlrSF', 'BedroomAbvGr', 'KitchenAbvGr', \\\n",
    "       'Fireplaces', 'GarageYrBlt', 'GarageArea', \\\n",
    "       'WoodDeckSF','EnclosedPorch', '3SsnPorch',   \\\n",
    "       'ScreenPorch', 'MiscVal', 'YrSold',  \\\n",
    "       'MSZoning','Foundation', 'BsmtExposure',  \\\n",
    "       'HeatingQC','Neighborhood']]\n",
    "catCol2 = ['Foundation', 'BsmtExposure', 'HeatingQC', 'MSZoning','Neighborhood'] \n",
    "\n",
    "features1= pd.get_dummies(features, columns = catCol2, drop_first = True)\n",
    "\n",
    "y = hp_res['SalePrice']\n",
    "hp_res['log_Price'] = np.log10(hp_res['SalePrice'])\n",
    "logy = hp_res['log_Price']\n",
    "\n"
   ]
  },
  {
   "cell_type": "code",
   "execution_count": 21,
   "id": "4eb5e331",
   "metadata": {},
   "outputs": [],
   "source": [
    "from sklearn import linear_model, datasets, metrics\n",
    "from sklearn.linear_model import LinearRegression, Ridge, Lasso, ElasticNet\n",
    "from sklearn.metrics import mean_squared_error\n",
    "from sklearn.pipeline import Pipeline\n",
    "from sklearn.preprocessing import StandardScaler\n",
    "import time\n",
    "from sklearn import datasets\n",
    "from sklearn.model_selection import train_test_split, KFold, GridSearchCV, cross_val_score\n",
    "X_train_log, X_test_log, y_train_log, y_test_log = train_test_split(features1, logy, test_size = 0.3, random_state = 0)"
   ]
  },
  {
   "cell_type": "code",
   "execution_count": 22,
   "id": "df8f9c1d",
   "metadata": {},
   "outputs": [
    {
     "name": "stdout",
     "output_type": "stream",
     "text": [
      "R^2 train set: 0.929319\n",
      "R^2 test  set: 0.931691\n",
      "CV R^2 train set: 0.92297\n",
      "RMSE: 0.04591\n"
     ]
    }
   ],
   "source": [
    "#run multiple linear regression using features selected with Lasso regression\n",
    "ols = LinearRegression()\n",
    "\n",
    "ols.fit(X_train_log, y_train_log)\n",
    "\n",
    "cv = np.mean(cross_val_score(ols, X_train_log, y_train_log))\n",
    "\n",
    "pred = ols.predict(X_test_log)\n",
    "RMSE = (mean_squared_error(pred, y_test_log, squared = False))\n",
    "\n",
    "\n",
    "print(\"R^2 train set: %f\" %ols3.score(X_train_log, y_train_log))\n",
    "print(\"R^2 test  set: %f\" %ols4.score(X_test_log, y_test_log))\n",
    "print(\"CV R^2 train set: \" + str(round(cv,5)))\n",
    "print(\"RMSE: \" + str(round(RMSE, 5))) \n",
    "\n"
   ]
  },
  {
   "cell_type": "code",
   "execution_count": 23,
   "id": "4c4b8b94",
   "metadata": {},
   "outputs": [],
   "source": [
    "nb = features['Neighborhood'].unique()\n",
    "def label_nb(row):\n",
    "    if row['Neighborhood'] in (['NridgHt','NoRidge','Veenker','StoneBr']):      \n",
    "        return 'N'\n",
    "    if row['Neighborhood']      \\\n",
    "             in (['Blmngtn','Gilbert','OldTown', 'NWAmes','NAmes','Blmngtn','BrDale','Somerst','BrkSide','Greens','NPkVill']):\n",
    "        return 'NE'\n",
    "    if row['Neighborhood']      \\\n",
    "            in (['CollgCr','SWISU', 'Edwards','SawyerW','Sawyer','ClearCr']):\n",
    "        return 'W'                      \n",
    "    if row['Neighborhood'] in (['Crawfor','MeadowV','Timber','Mitchel','IDOTRR']):     \n",
    "        return 'S'\n",
    "    \n",
    "features['Location']=features.apply(lambda row: label_nb(row), axis = 1)\n",
    "features = features.drop(['Neighborhood'], axis = 1)\n",
    "features2 = features    \n",
    "catCol2 = ['Foundation', 'BsmtExposure', 'HeatingQC', 'MSZoning', 'Location'] \n",
    "features2= pd.get_dummies(features, columns = catCol2, drop_first = True)"
   ]
  },
  {
   "cell_type": "code",
   "execution_count": 80,
   "id": "b416e0e3",
   "metadata": {},
   "outputs": [],
   "source": [
    "X_train_log, X_test_log, y_train_log, y_test_log = train_test_split(features2, logy, test_size = 0.3, random_state = 0)"
   ]
  },
  {
   "cell_type": "code",
   "execution_count": 25,
   "id": "5adc4bd3",
   "metadata": {},
   "outputs": [
    {
     "name": "stdout",
     "output_type": "stream",
     "text": [
      "R^2 train set: 0.929319\n",
      "R^2 test  set: 0.920043\n",
      "CV R^2 train set: 0.92297\n",
      "RMSE: 0.04591\n"
     ]
    }
   ],
   "source": [
    "ols = LinearRegression()\n",
    "ols.fit(X_train_log, y_train_log)\n",
    "cv = np.mean(cross_val_score(ols, X_train_log, y_train_log))\n",
    "pred = ols.predict(X_test_log)\n",
    "RMSE = (mean_squared_error(pred, y_test_log, squared = False))\n",
    "\n",
    "\n",
    "print(\"R^2 train set: %f\" %ols.score(X_train_log, y_train_log))\n",
    "print(\"R^2 test  set: %f\" %ols.score(X_test_log, y_test_log))\n",
    "print(\"CV R^2 train set: \" + str(round(cv,5)))\n",
    "print(\"RMSE: \" + str(round(RMSE, 5))) "
   ]
  },
  {
   "cell_type": "code",
   "execution_count": null,
   "id": "f9bfa1ea",
   "metadata": {},
   "outputs": [],
   "source": []
  },
  {
   "cell_type": "code",
   "execution_count": null,
   "id": "6080eecc",
   "metadata": {},
   "outputs": [],
   "source": []
  },
  {
   "cell_type": "code",
   "execution_count": null,
   "id": "a1ec748a",
   "metadata": {},
   "outputs": [],
   "source": []
  },
  {
   "cell_type": "code",
   "execution_count": null,
   "id": "a1f6fa28",
   "metadata": {},
   "outputs": [],
   "source": []
  },
  {
   "cell_type": "code",
   "execution_count": null,
   "id": "dcb5c0a5",
   "metadata": {},
   "outputs": [],
   "source": []
  }
 ],
 "metadata": {
  "kernelspec": {
   "display_name": "Python 3",
   "language": "python",
   "name": "python3"
  },
  "language_info": {
   "codemirror_mode": {
    "name": "ipython",
    "version": 3
   },
   "file_extension": ".py",
   "mimetype": "text/x-python",
   "name": "python",
   "nbconvert_exporter": "python",
   "pygments_lexer": "ipython3",
   "version": "3.8.8"
  }
 },
 "nbformat": 4,
 "nbformat_minor": 5
}
