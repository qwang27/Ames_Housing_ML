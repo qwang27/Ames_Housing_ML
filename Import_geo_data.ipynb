{
 "cells": [
  {
   "cell_type": "code",
   "execution_count": 1,
   "id": "61be7561",
   "metadata": {},
   "outputs": [
    {
     "name": "stdout",
     "output_type": "stream",
     "text": [
      "Current working directory: /Users/chereowang27/NYCDSA/Machine_Learning_I/Machine_Learning_Project/Ames_Housing_ML\n"
     ]
    },
    {
     "data": {
      "text/html": [
       "<div>\n",
       "<style scoped>\n",
       "    .dataframe tbody tr th:only-of-type {\n",
       "        vertical-align: middle;\n",
       "    }\n",
       "\n",
       "    .dataframe tbody tr th {\n",
       "        vertical-align: top;\n",
       "    }\n",
       "\n",
       "    .dataframe thead th {\n",
       "        text-align: right;\n",
       "    }\n",
       "</style>\n",
       "<table border=\"1\" class=\"dataframe\">\n",
       "  <thead>\n",
       "    <tr style=\"text-align: right;\">\n",
       "      <th></th>\n",
       "      <th>Unnamed: 0</th>\n",
       "      <th>MapRefNo</th>\n",
       "      <th>Prop_Addr</th>\n",
       "      <th>PID</th>\n",
       "      <th>GrLivArea</th>\n",
       "      <th>SalePrice</th>\n",
       "      <th>MSSubClass</th>\n",
       "      <th>MSZoning</th>\n",
       "      <th>LotFrontage</th>\n",
       "      <th>LotArea</th>\n",
       "      <th>...</th>\n",
       "      <th>OpenPorchSF</th>\n",
       "      <th>EnclosedPorch</th>\n",
       "      <th>3SsnPorch</th>\n",
       "      <th>ScreenPorch</th>\n",
       "      <th>PoolArea</th>\n",
       "      <th>MiscVal</th>\n",
       "      <th>MoSold</th>\n",
       "      <th>YrSold</th>\n",
       "      <th>SaleType</th>\n",
       "      <th>SaleCondition</th>\n",
       "    </tr>\n",
       "  </thead>\n",
       "  <tbody>\n",
       "    <tr>\n",
       "      <th>0</th>\n",
       "      <td>0</td>\n",
       "      <td>909176150.0</td>\n",
       "      <td>436 HAYWARD AVE</td>\n",
       "      <td>909176150</td>\n",
       "      <td>856</td>\n",
       "      <td>126000</td>\n",
       "      <td>30</td>\n",
       "      <td>RL</td>\n",
       "      <td>60.783784</td>\n",
       "      <td>7890</td>\n",
       "      <td>...</td>\n",
       "      <td>0</td>\n",
       "      <td>0</td>\n",
       "      <td>0</td>\n",
       "      <td>166</td>\n",
       "      <td>0</td>\n",
       "      <td>0</td>\n",
       "      <td>3</td>\n",
       "      <td>2010</td>\n",
       "      <td>WD</td>\n",
       "      <td>Normal</td>\n",
       "    </tr>\n",
       "    <tr>\n",
       "      <th>1</th>\n",
       "      <td>1</td>\n",
       "      <td>905476230.0</td>\n",
       "      <td>3416 WEST ST</td>\n",
       "      <td>905476230</td>\n",
       "      <td>1049</td>\n",
       "      <td>139500</td>\n",
       "      <td>120</td>\n",
       "      <td>RL</td>\n",
       "      <td>42.000000</td>\n",
       "      <td>4235</td>\n",
       "      <td>...</td>\n",
       "      <td>105</td>\n",
       "      <td>0</td>\n",
       "      <td>0</td>\n",
       "      <td>0</td>\n",
       "      <td>0</td>\n",
       "      <td>0</td>\n",
       "      <td>2</td>\n",
       "      <td>2009</td>\n",
       "      <td>WD</td>\n",
       "      <td>Normal</td>\n",
       "    </tr>\n",
       "    <tr>\n",
       "      <th>2</th>\n",
       "      <td>2</td>\n",
       "      <td>905476230.0</td>\n",
       "      <td>3416 WEST ST</td>\n",
       "      <td>905476230</td>\n",
       "      <td>1049</td>\n",
       "      <td>139500</td>\n",
       "      <td>120</td>\n",
       "      <td>RL</td>\n",
       "      <td>42.000000</td>\n",
       "      <td>4235</td>\n",
       "      <td>...</td>\n",
       "      <td>105</td>\n",
       "      <td>0</td>\n",
       "      <td>0</td>\n",
       "      <td>0</td>\n",
       "      <td>0</td>\n",
       "      <td>0</td>\n",
       "      <td>2</td>\n",
       "      <td>2009</td>\n",
       "      <td>WD</td>\n",
       "      <td>Normal</td>\n",
       "    </tr>\n",
       "    <tr>\n",
       "      <th>3</th>\n",
       "      <td>3</td>\n",
       "      <td>911128020.0</td>\n",
       "      <td>320 S 2ND ST</td>\n",
       "      <td>911128020</td>\n",
       "      <td>1001</td>\n",
       "      <td>124900</td>\n",
       "      <td>30</td>\n",
       "      <td>C (all)</td>\n",
       "      <td>60.000000</td>\n",
       "      <td>6060</td>\n",
       "      <td>...</td>\n",
       "      <td>0</td>\n",
       "      <td>42</td>\n",
       "      <td>86</td>\n",
       "      <td>0</td>\n",
       "      <td>0</td>\n",
       "      <td>0</td>\n",
       "      <td>11</td>\n",
       "      <td>2007</td>\n",
       "      <td>WD</td>\n",
       "      <td>Normal</td>\n",
       "    </tr>\n",
       "    <tr>\n",
       "      <th>4</th>\n",
       "      <td>4</td>\n",
       "      <td>535377150.0</td>\n",
       "      <td>1524 DOUGLAS AVE</td>\n",
       "      <td>535377150</td>\n",
       "      <td>1039</td>\n",
       "      <td>114000</td>\n",
       "      <td>70</td>\n",
       "      <td>RL</td>\n",
       "      <td>80.000000</td>\n",
       "      <td>8146</td>\n",
       "      <td>...</td>\n",
       "      <td>0</td>\n",
       "      <td>168</td>\n",
       "      <td>0</td>\n",
       "      <td>111</td>\n",
       "      <td>0</td>\n",
       "      <td>0</td>\n",
       "      <td>5</td>\n",
       "      <td>2009</td>\n",
       "      <td>WD</td>\n",
       "      <td>Normal</td>\n",
       "    </tr>\n",
       "  </tbody>\n",
       "</table>\n",
       "<p>5 rows × 80 columns</p>\n",
       "</div>"
      ],
      "text/plain": [
       "   Unnamed: 0     MapRefNo         Prop_Addr        PID  GrLivArea  SalePrice  \\\n",
       "0           0  909176150.0   436 HAYWARD AVE  909176150        856     126000   \n",
       "1           1  905476230.0      3416 WEST ST  905476230       1049     139500   \n",
       "2           2  905476230.0      3416 WEST ST  905476230       1049     139500   \n",
       "3           3  911128020.0      320 S 2ND ST  911128020       1001     124900   \n",
       "4           4  535377150.0  1524 DOUGLAS AVE  535377150       1039     114000   \n",
       "\n",
       "   MSSubClass MSZoning  LotFrontage  LotArea  ... OpenPorchSF EnclosedPorch  \\\n",
       "0          30       RL    60.783784     7890  ...           0             0   \n",
       "1         120       RL    42.000000     4235  ...         105             0   \n",
       "2         120       RL    42.000000     4235  ...         105             0   \n",
       "3          30  C (all)    60.000000     6060  ...           0            42   \n",
       "4          70       RL    80.000000     8146  ...           0           168   \n",
       "\n",
       "  3SsnPorch ScreenPorch PoolArea MiscVal MoSold YrSold SaleType SaleCondition  \n",
       "0         0         166        0       0      3   2010      WD         Normal  \n",
       "1         0           0        0       0      2   2009      WD         Normal  \n",
       "2         0           0        0       0      2   2009      WD         Normal  \n",
       "3        86           0        0       0     11   2007      WD         Normal  \n",
       "4         0         111        0       0      5   2009      WD         Normal  \n",
       "\n",
       "[5 rows x 80 columns]"
      ]
     },
     "execution_count": 1,
     "metadata": {},
     "output_type": "execute_result"
    }
   ],
   "source": [
    "import os\n",
    "import pandas as pd\n",
    "import numpy as np\n",
    "from datetime import datetime\n",
    "from scipy import stats\n",
    "import matplotlib\n",
    "import matplotlib.pyplot as plt\n",
    "import plotly.express as px\n",
    "import seaborn as sns\n",
    "\n",
    "from geopy.geocoders import Nominatim\n",
    "from geopy.extra.rate_limiter import RateLimiter\n",
    "\n",
    "%matplotlib inline\n",
    "cwd = os.getcwd()\n",
    "print(\"Current working directory: {0}\".format(cwd))\n",
    "\n",
    "HousePrice1 = pd.read_csv(\"HousePrice1.csv\")\n",
    "\n",
    "HousePrice1.head(5)"
   ]
  },
  {
   "cell_type": "code",
   "execution_count": 96,
   "id": "022bd3f5",
   "metadata": {},
   "outputs": [
    {
     "data": {
      "text/plain": [
       "(2624, 81)"
      ]
     },
     "execution_count": 96,
     "metadata": {},
     "output_type": "execute_result"
    }
   ],
   "source": [
    "HousePrice1.shape"
   ]
  },
  {
   "cell_type": "code",
   "execution_count": 2,
   "id": "fe88d17b",
   "metadata": {},
   "outputs": [],
   "source": [
    "import time\n",
    "from geopy.geocoders import Nominatim\n",
    "locator = Nominatim(user_agent=\"hi\")\n",
    "# location = locator.geocode('3416 WEST ST' + ', Ames, IA')\n",
    "\n",
    "HP1 = HousePrice1[:500]\n",
    "HP2 = HousePrice1[500:1000]\n",
    "HP3 = HousePrice1[1000:1500]\n",
    "HP4 = HousePrice1[1500:2000]\n",
    "HP5 = HousePrice1[2000:]\n"
   ]
  },
  {
   "cell_type": "code",
   "execution_count": 3,
   "id": "70d88ac2",
   "metadata": {},
   "outputs": [],
   "source": [
    "HP1_geoloc= [locator.geocode(addr+', Ames, IA') if type(addr)==str else None \\\n",
    "for addr in HP1['Prop_Addr']]\n",
    "HP1 = pd.DataFrame([(loc.address, loc.latitude, loc.longitude) if loc != None else None \n",
    "           for loc in HP1_geoloc], columns = ['address', 'latitude', 'longitude'])\n",
    "HP1.to_csv(\"./data/HP1.csv\")"
   ]
  },
  {
   "cell_type": "code",
   "execution_count": 97,
   "id": "589eaf48",
   "metadata": {},
   "outputs": [
    {
     "data": {
      "text/plain": [
       "(500, 81)"
      ]
     },
     "execution_count": 97,
     "metadata": {},
     "output_type": "execute_result"
    }
   ],
   "source": [
    "HP1.shape"
   ]
  },
  {
   "cell_type": "code",
   "execution_count": 100,
   "id": "d6c35337",
   "metadata": {},
   "outputs": [
    {
     "data": {
      "text/html": [
       "<div>\n",
       "<style scoped>\n",
       "    .dataframe tbody tr th:only-of-type {\n",
       "        vertical-align: middle;\n",
       "    }\n",
       "\n",
       "    .dataframe tbody tr th {\n",
       "        vertical-align: top;\n",
       "    }\n",
       "\n",
       "    .dataframe thead th {\n",
       "        text-align: right;\n",
       "    }\n",
       "</style>\n",
       "<table border=\"1\" class=\"dataframe\">\n",
       "  <thead>\n",
       "    <tr style=\"text-align: right;\">\n",
       "      <th></th>\n",
       "      <th>address</th>\n",
       "      <th>latitude</th>\n",
       "      <th>longitude</th>\n",
       "    </tr>\n",
       "  </thead>\n",
       "  <tbody>\n",
       "    <tr>\n",
       "      <th>0</th>\n",
       "      <td>510, Luther Drive, Broadmoor, Ames, Story Coun...</td>\n",
       "      <td>42.048183</td>\n",
       "      <td>-93.618001</td>\n",
       "    </tr>\n",
       "    <tr>\n",
       "      <th>1</th>\n",
       "      <td>3108, Sycamore Road, Northridge Parkway, Ames,...</td>\n",
       "      <td>42.049504</td>\n",
       "      <td>-93.653118</td>\n",
       "    </tr>\n",
       "    <tr>\n",
       "      <th>2</th>\n",
       "      <td>None</td>\n",
       "      <td>NaN</td>\n",
       "      <td>NaN</td>\n",
       "    </tr>\n",
       "    <tr>\n",
       "      <th>3</th>\n",
       "      <td>428, Jewel Drive, Ames, Story County, Iowa, 50...</td>\n",
       "      <td>41.993176</td>\n",
       "      <td>-93.606233</td>\n",
       "    </tr>\n",
       "    <tr>\n",
       "      <th>4</th>\n",
       "      <td>1400, Burnett Avenue, Ames, Story County, Iowa...</td>\n",
       "      <td>42.035826</td>\n",
       "      <td>-93.615429</td>\n",
       "    </tr>\n",
       "    <tr>\n",
       "      <th>...</th>\n",
       "      <td>...</td>\n",
       "      <td>...</td>\n",
       "      <td>...</td>\n",
       "    </tr>\n",
       "    <tr>\n",
       "      <th>495</th>\n",
       "      <td>1724, Meadowlane Avenue, Gunderland Heights, A...</td>\n",
       "      <td>42.039667</td>\n",
       "      <td>-93.604127</td>\n",
       "    </tr>\n",
       "    <tr>\n",
       "      <th>496</th>\n",
       "      <td>719, Garnet Drive, Ames, Story County, Iowa, 5...</td>\n",
       "      <td>41.991708</td>\n",
       "      <td>-93.601817</td>\n",
       "    </tr>\n",
       "    <tr>\n",
       "      <th>497</th>\n",
       "      <td>2412, Westwind Drive, Bloomington Heights West...</td>\n",
       "      <td>42.062423</td>\n",
       "      <td>-93.641790</td>\n",
       "    </tr>\n",
       "    <tr>\n",
       "      <th>498</th>\n",
       "      <td>5407, Schubert Street, Bentwood, Ames, Story C...</td>\n",
       "      <td>42.022236</td>\n",
       "      <td>-93.692055</td>\n",
       "    </tr>\n",
       "    <tr>\n",
       "      <th>499</th>\n",
       "      <td>2809, Bristol Drive, Somerset, Ames, Story Cou...</td>\n",
       "      <td>42.047451</td>\n",
       "      <td>-93.647635</td>\n",
       "    </tr>\n",
       "  </tbody>\n",
       "</table>\n",
       "<p>500 rows × 3 columns</p>\n",
       "</div>"
      ],
      "text/plain": [
       "                                               address   latitude  longitude\n",
       "0    510, Luther Drive, Broadmoor, Ames, Story Coun...  42.048183 -93.618001\n",
       "1    3108, Sycamore Road, Northridge Parkway, Ames,...  42.049504 -93.653118\n",
       "2                                                 None        NaN        NaN\n",
       "3    428, Jewel Drive, Ames, Story County, Iowa, 50...  41.993176 -93.606233\n",
       "4    1400, Burnett Avenue, Ames, Story County, Iowa...  42.035826 -93.615429\n",
       "..                                                 ...        ...        ...\n",
       "495  1724, Meadowlane Avenue, Gunderland Heights, A...  42.039667 -93.604127\n",
       "496  719, Garnet Drive, Ames, Story County, Iowa, 5...  41.991708 -93.601817\n",
       "497  2412, Westwind Drive, Bloomington Heights West...  42.062423 -93.641790\n",
       "498  5407, Schubert Street, Bentwood, Ames, Story C...  42.022236 -93.692055\n",
       "499  2809, Bristol Drive, Somerset, Ames, Story Cou...  42.047451 -93.647635\n",
       "\n",
       "[500 rows x 3 columns]"
      ]
     },
     "execution_count": 100,
     "metadata": {},
     "output_type": "execute_result"
    }
   ],
   "source": [
    "HP2_geoloc= [locator.geocode(addr+', Ames, IA') if type(addr)==str else None \\\n",
    "for addr in HP2['Prop_Addr']]\n",
    "HP2 = pd.DataFrame([(loc.address, loc.latitude, loc.longitude) if loc != None else None \n",
    "           for loc in HP2_geoloc], columns = ['address', 'latitude', 'longitude'])\n",
    "HP2"
   ]
  },
  {
   "cell_type": "code",
   "execution_count": 101,
   "id": "8afead45",
   "metadata": {},
   "outputs": [
    {
     "data": {
      "text/plain": [
       "(500, 3)"
      ]
     },
     "execution_count": 101,
     "metadata": {},
     "output_type": "execute_result"
    }
   ],
   "source": [
    "HP2.shape"
   ]
  },
  {
   "cell_type": "code",
   "execution_count": 91,
   "id": "a8c8817a",
   "metadata": {},
   "outputs": [],
   "source": [
    "HP2.to_csv(\"./data/HP2.csv\")"
   ]
  },
  {
   "cell_type": "code",
   "execution_count": 4,
   "id": "9b998438",
   "metadata": {},
   "outputs": [],
   "source": [
    "HP3_geoloc= [locator.geocode(addr+', Ames, IA') if type(addr)==str else None \\\n",
    "for addr in HP3['Prop_Addr']]\n",
    "HP3 = pd.DataFrame([(loc.address, loc.latitude, loc.longitude) if loc != None else None \n",
    "           for loc in HP3_geoloc], columns = ['address', 'latitude', 'longitude'])\n",
    "\n",
    "HP3.to_csv(\"./data/HP3.csv\")"
   ]
  },
  {
   "cell_type": "code",
   "execution_count": 65,
   "id": "6f4bcdc6",
   "metadata": {},
   "outputs": [
    {
     "data": {
      "text/plain": [
       "Location(3817, Westlawn Drive, Bloomington Heights, Ames, Story County, Iowa, 50010, United States, (42.05868119250007, -93.64258983323604, 0.0))"
      ]
     },
     "execution_count": 65,
     "metadata": {},
     "output_type": "execute_result"
    }
   ],
   "source": [
    "HP3.iloc[0,81]"
   ]
  },
  {
   "cell_type": "code",
   "execution_count": 112,
   "id": "4a96193a",
   "metadata": {},
   "outputs": [],
   "source": [
    "HP4_geoloc= [locator.geocode(addr+', Ames, IA') if type(addr)==str else None \\\n",
    "for addr in HP4['Prop_Addr']]\n",
    "HP4 = pd.DataFrame([(loc.address, loc.latitude, loc.longitude) if loc != None else None \n",
    "           for loc in HP4_geoloc], columns = ['address', 'latitude', 'longitude'])\n",
    "HP4.to_csv(\"./data/HP4.csv\")\n"
   ]
  },
  {
   "cell_type": "code",
   "execution_count": 102,
   "id": "6cc9a9d4",
   "metadata": {},
   "outputs": [],
   "source": [
    "HP5_geoloc = [locator.geocode(addr+', Ames, IA') if type(addr)==str else None \\\n",
    "for addr in HP5['Prop_Addr']]\n",
    "HP5 = pd.DataFrame([(loc.address, loc.latitude, loc.longitude) if loc != None else None \n",
    "           for loc in HP5_geoloc], columns = ['address', 'latitude', 'longitude'])\n",
    "HP5.to_csv(\"./data/HP5.csv\")\n"
   ]
  },
  {
   "cell_type": "code",
   "execution_count": 108,
   "id": "c939e565",
   "metadata": {},
   "outputs": [
    {
     "data": {
      "text/plain": [
       "(624, 3)"
      ]
     },
     "execution_count": 108,
     "metadata": {},
     "output_type": "execute_result"
    }
   ],
   "source": [
    "HP5.shape\n",
    "\n",
    "\n",
    "\n"
   ]
  },
  {
   "cell_type": "code",
   "execution_count": null,
   "id": "d00aca41",
   "metadata": {},
   "outputs": [],
   "source": []
  },
  {
   "cell_type": "code",
   "execution_count": 74,
   "id": "f1f9ca50",
   "metadata": {},
   "outputs": [
    {
     "data": {
      "text/plain": [
       "(2624, 82)"
      ]
     },
     "execution_count": 74,
     "metadata": {},
     "output_type": "execute_result"
    }
   ],
   "source": []
  }
 ],
 "metadata": {
  "kernelspec": {
   "display_name": "Python 3",
   "language": "python",
   "name": "python3"
  },
  "language_info": {
   "codemirror_mode": {
    "name": "ipython",
    "version": 3
   },
   "file_extension": ".py",
   "mimetype": "text/x-python",
   "name": "python",
   "nbconvert_exporter": "python",
   "pygments_lexer": "ipython3",
   "version": "3.8.8"
  }
 },
 "nbformat": 4,
 "nbformat_minor": 5
}
