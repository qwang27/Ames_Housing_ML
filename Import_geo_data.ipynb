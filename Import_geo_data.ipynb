{
 "cells": [
  {
   "cell_type": "code",
   "execution_count": 4,
   "id": "61be7561",
   "metadata": {},
   "outputs": [
    {
     "name": "stdout",
     "output_type": "stream",
     "text": [
      "Current working directory: /Users/chereowang27/NYCDSA/Machine_Learning_I/Machine_Learning_Project/Ames_Housing_ML\n"
     ]
    },
    {
     "data": {
      "text/html": [
       "<div>\n",
       "<style scoped>\n",
       "    .dataframe tbody tr th:only-of-type {\n",
       "        vertical-align: middle;\n",
       "    }\n",
       "\n",
       "    .dataframe tbody tr th {\n",
       "        vertical-align: top;\n",
       "    }\n",
       "\n",
       "    .dataframe thead th {\n",
       "        text-align: right;\n",
       "    }\n",
       "</style>\n",
       "<table border=\"1\" class=\"dataframe\">\n",
       "  <thead>\n",
       "    <tr style=\"text-align: right;\">\n",
       "      <th></th>\n",
       "      <th>Unnamed: 0</th>\n",
       "      <th>MapRefNo</th>\n",
       "      <th>Prop_Addr</th>\n",
       "      <th>Unnamed: 0.1</th>\n",
       "      <th>PID</th>\n",
       "      <th>GrLivArea</th>\n",
       "      <th>SalePrice</th>\n",
       "      <th>MSSubClass</th>\n",
       "      <th>MSZoning</th>\n",
       "      <th>LotFrontage</th>\n",
       "      <th>...</th>\n",
       "      <th>OpenPorchSF</th>\n",
       "      <th>EnclosedPorch</th>\n",
       "      <th>3SsnPorch</th>\n",
       "      <th>ScreenPorch</th>\n",
       "      <th>PoolArea</th>\n",
       "      <th>MiscVal</th>\n",
       "      <th>MoSold</th>\n",
       "      <th>YrSold</th>\n",
       "      <th>SaleType</th>\n",
       "      <th>SaleCondition</th>\n",
       "    </tr>\n",
       "  </thead>\n",
       "  <tbody>\n",
       "    <tr>\n",
       "      <th>0</th>\n",
       "      <td>0</td>\n",
       "      <td>909176150.0</td>\n",
       "      <td>436 HAYWARD AVE</td>\n",
       "      <td>1</td>\n",
       "      <td>909176150</td>\n",
       "      <td>856</td>\n",
       "      <td>126000</td>\n",
       "      <td>30</td>\n",
       "      <td>RL</td>\n",
       "      <td>60.783784</td>\n",
       "      <td>...</td>\n",
       "      <td>0</td>\n",
       "      <td>0</td>\n",
       "      <td>0</td>\n",
       "      <td>166</td>\n",
       "      <td>0</td>\n",
       "      <td>0</td>\n",
       "      <td>3</td>\n",
       "      <td>2010</td>\n",
       "      <td>WD</td>\n",
       "      <td>Normal</td>\n",
       "    </tr>\n",
       "    <tr>\n",
       "      <th>1</th>\n",
       "      <td>1</td>\n",
       "      <td>905476230.0</td>\n",
       "      <td>3416 WEST ST</td>\n",
       "      <td>2</td>\n",
       "      <td>905476230</td>\n",
       "      <td>1049</td>\n",
       "      <td>139500</td>\n",
       "      <td>120</td>\n",
       "      <td>RL</td>\n",
       "      <td>42.000000</td>\n",
       "      <td>...</td>\n",
       "      <td>105</td>\n",
       "      <td>0</td>\n",
       "      <td>0</td>\n",
       "      <td>0</td>\n",
       "      <td>0</td>\n",
       "      <td>0</td>\n",
       "      <td>2</td>\n",
       "      <td>2009</td>\n",
       "      <td>WD</td>\n",
       "      <td>Normal</td>\n",
       "    </tr>\n",
       "    <tr>\n",
       "      <th>2</th>\n",
       "      <td>2</td>\n",
       "      <td>905476230.0</td>\n",
       "      <td>3416 WEST ST</td>\n",
       "      <td>2</td>\n",
       "      <td>905476230</td>\n",
       "      <td>1049</td>\n",
       "      <td>139500</td>\n",
       "      <td>120</td>\n",
       "      <td>RL</td>\n",
       "      <td>42.000000</td>\n",
       "      <td>...</td>\n",
       "      <td>105</td>\n",
       "      <td>0</td>\n",
       "      <td>0</td>\n",
       "      <td>0</td>\n",
       "      <td>0</td>\n",
       "      <td>0</td>\n",
       "      <td>2</td>\n",
       "      <td>2009</td>\n",
       "      <td>WD</td>\n",
       "      <td>Normal</td>\n",
       "    </tr>\n",
       "    <tr>\n",
       "      <th>3</th>\n",
       "      <td>3</td>\n",
       "      <td>911128020.0</td>\n",
       "      <td>320 S 2ND ST</td>\n",
       "      <td>3</td>\n",
       "      <td>911128020</td>\n",
       "      <td>1001</td>\n",
       "      <td>124900</td>\n",
       "      <td>30</td>\n",
       "      <td>C (all)</td>\n",
       "      <td>60.000000</td>\n",
       "      <td>...</td>\n",
       "      <td>0</td>\n",
       "      <td>42</td>\n",
       "      <td>86</td>\n",
       "      <td>0</td>\n",
       "      <td>0</td>\n",
       "      <td>0</td>\n",
       "      <td>11</td>\n",
       "      <td>2007</td>\n",
       "      <td>WD</td>\n",
       "      <td>Normal</td>\n",
       "    </tr>\n",
       "    <tr>\n",
       "      <th>4</th>\n",
       "      <td>4</td>\n",
       "      <td>535377150.0</td>\n",
       "      <td>1524 DOUGLAS AVE</td>\n",
       "      <td>4</td>\n",
       "      <td>535377150</td>\n",
       "      <td>1039</td>\n",
       "      <td>114000</td>\n",
       "      <td>70</td>\n",
       "      <td>RL</td>\n",
       "      <td>80.000000</td>\n",
       "      <td>...</td>\n",
       "      <td>0</td>\n",
       "      <td>168</td>\n",
       "      <td>0</td>\n",
       "      <td>111</td>\n",
       "      <td>0</td>\n",
       "      <td>0</td>\n",
       "      <td>5</td>\n",
       "      <td>2009</td>\n",
       "      <td>WD</td>\n",
       "      <td>Normal</td>\n",
       "    </tr>\n",
       "  </tbody>\n",
       "</table>\n",
       "<p>5 rows × 81 columns</p>\n",
       "</div>"
      ],
      "text/plain": [
       "   Unnamed: 0     MapRefNo         Prop_Addr  Unnamed: 0.1        PID  \\\n",
       "0           0  909176150.0   436 HAYWARD AVE             1  909176150   \n",
       "1           1  905476230.0      3416 WEST ST             2  905476230   \n",
       "2           2  905476230.0      3416 WEST ST             2  905476230   \n",
       "3           3  911128020.0      320 S 2ND ST             3  911128020   \n",
       "4           4  535377150.0  1524 DOUGLAS AVE             4  535377150   \n",
       "\n",
       "   GrLivArea  SalePrice  MSSubClass MSZoning  LotFrontage  ...  OpenPorchSF  \\\n",
       "0        856     126000          30       RL    60.783784  ...            0   \n",
       "1       1049     139500         120       RL    42.000000  ...          105   \n",
       "2       1049     139500         120       RL    42.000000  ...          105   \n",
       "3       1001     124900          30  C (all)    60.000000  ...            0   \n",
       "4       1039     114000          70       RL    80.000000  ...            0   \n",
       "\n",
       "  EnclosedPorch 3SsnPorch ScreenPorch PoolArea MiscVal MoSold YrSold SaleType  \\\n",
       "0             0         0         166        0       0      3   2010      WD    \n",
       "1             0         0           0        0       0      2   2009      WD    \n",
       "2             0         0           0        0       0      2   2009      WD    \n",
       "3            42        86           0        0       0     11   2007      WD    \n",
       "4           168         0         111        0       0      5   2009      WD    \n",
       "\n",
       "  SaleCondition  \n",
       "0        Normal  \n",
       "1        Normal  \n",
       "2        Normal  \n",
       "3        Normal  \n",
       "4        Normal  \n",
       "\n",
       "[5 rows x 81 columns]"
      ]
     },
     "execution_count": 4,
     "metadata": {},
     "output_type": "execute_result"
    }
   ],
   "source": [
    "import os\n",
    "import pandas as pd\n",
    "import numpy as np\n",
    "from datetime import datetime\n",
    "from scipy import stats\n",
    "import matplotlib\n",
    "import matplotlib.pyplot as plt\n",
    "import plotly.express as px\n",
    "import seaborn as sns\n",
    "\n",
    "from geopy.geocoders import Nominatim\n",
    "from geopy.extra.rate_limiter import RateLimiter\n",
    "\n",
    "%matplotlib inline\n",
    "cwd = os.getcwd()\n",
    "print(\"Current working directory: {0}\".format(cwd))\n",
    "\n",
    "HousePrice1 = pd.read_csv(\"HousePrice1.csv\")\n",
    "\n",
    "HousePrice1.head(5)"
   ]
  },
  {
   "cell_type": "code",
   "execution_count": 38,
   "id": "fe88d17b",
   "metadata": {},
   "outputs": [],
   "source": [
    "import time\n",
    "from geopy.geocoders import Nominatim\n",
    "locator = Nominatim(user_agent=\"hi\")\n",
    "# location = locator.geocode('3416 WEST ST' + ', Ames, IA')\n",
    "\n",
    "HP1 = HousePrice1[:500]\n",
    "HP2 = HousePrice1[500:1000]\n",
    "HP3 = HousePrice1[1000:1500]\n",
    "HP4 = HousePrice1[1500:2000]\n",
    "HP5 = HousePrice1[2000:]\n"
   ]
  },
  {
   "cell_type": "code",
   "execution_count": 50,
   "id": "70d88ac2",
   "metadata": {},
   "outputs": [
    {
     "name": "stderr",
     "output_type": "stream",
     "text": [
      "<ipython-input-50-233fe2ae1a71>:1: SettingWithCopyWarning: \n",
      "A value is trying to be set on a copy of a slice from a DataFrame.\n",
      "Try using .loc[row_indexer,col_indexer] = value instead\n",
      "\n",
      "See the caveats in the documentation: https://pandas.pydata.org/pandas-docs/stable/user_guide/indexing.html#returning-a-view-versus-a-copy\n",
      "  HP1['Geo_Addr']= [locator.geocode(addr+', Ames, IA') if type(addr)==str else None \\\n"
     ]
    }
   ],
   "source": [
    "HP1['Geo_Addr']= [locator.geocode(addr+', Ames, IA') if type(addr)==str else None \\\n",
    "for addr in HP1['Prop_Addr']]\n",
    "HP1.to_csv(\"./data/HP1.csv\")"
   ]
  },
  {
   "cell_type": "code",
   "execution_count": 56,
   "id": "d6c35337",
   "metadata": {},
   "outputs": [
    {
     "name": "stderr",
     "output_type": "stream",
     "text": [
      "<ipython-input-56-d4bcd6bf573c>:1: SettingWithCopyWarning: \n",
      "A value is trying to be set on a copy of a slice from a DataFrame.\n",
      "Try using .loc[row_indexer,col_indexer] = value instead\n",
      "\n",
      "See the caveats in the documentation: https://pandas.pydata.org/pandas-docs/stable/user_guide/indexing.html#returning-a-view-versus-a-copy\n",
      "  HP2['Geo_Addr']= [locator.geocode(addr+', Ames, IA') if type(addr)==str else None \\\n"
     ]
    }
   ],
   "source": [
    "HP2['Geo_Addr']= [locator.geocode(addr+', Ames, IA') if type(addr)==str else None \\\n",
    "for addr in HP2['Prop_Addr']]\n",
    "HP2.to_csv(\"./data/HP2.csv\")"
   ]
  },
  {
   "cell_type": "code",
   "execution_count": 58,
   "id": "b6584b58",
   "metadata": {},
   "outputs": [
    {
     "data": {
      "text/plain": [
       "Location(510, Luther Drive, Broadmoor, Ames, Story County, Iowa, 50010, United States, (42.04818346460969, -93.61800109327203, 0.0))"
      ]
     },
     "execution_count": 58,
     "metadata": {},
     "output_type": "execute_result"
    }
   ],
   "source": [
    "HP2.iloc[0,81]"
   ]
  },
  {
   "cell_type": "code",
   "execution_count": 60,
   "id": "9b998438",
   "metadata": {},
   "outputs": [
    {
     "name": "stderr",
     "output_type": "stream",
     "text": [
      "<ipython-input-60-ff755e34fe09>:1: SettingWithCopyWarning: \n",
      "A value is trying to be set on a copy of a slice from a DataFrame.\n",
      "Try using .loc[row_indexer,col_indexer] = value instead\n",
      "\n",
      "See the caveats in the documentation: https://pandas.pydata.org/pandas-docs/stable/user_guide/indexing.html#returning-a-view-versus-a-copy\n",
      "  HP3['Geo_Addr']= [locator.geocode(addr+', Ames, IA') if type(addr)==str else None \\\n"
     ]
    }
   ],
   "source": [
    "HP3['Geo_Addr']= [locator.geocode(addr+', Ames, IA') if type(addr)==str else None \\\n",
    "for addr in HP3['Prop_Addr']]\n",
    "HP3.to_csv(\"./data/HP3.csv\")"
   ]
  },
  {
   "cell_type": "code",
   "execution_count": 65,
   "id": "6f4bcdc6",
   "metadata": {},
   "outputs": [
    {
     "data": {
      "text/plain": [
       "Location(3817, Westlawn Drive, Bloomington Heights, Ames, Story County, Iowa, 50010, United States, (42.05868119250007, -93.64258983323604, 0.0))"
      ]
     },
     "execution_count": 65,
     "metadata": {},
     "output_type": "execute_result"
    }
   ],
   "source": [
    "HP3.iloc[0,81]"
   ]
  },
  {
   "cell_type": "code",
   "execution_count": 66,
   "id": "4a96193a",
   "metadata": {},
   "outputs": [
    {
     "name": "stderr",
     "output_type": "stream",
     "text": [
      "<ipython-input-66-c896b1fc4def>:1: SettingWithCopyWarning: \n",
      "A value is trying to be set on a copy of a slice from a DataFrame.\n",
      "Try using .loc[row_indexer,col_indexer] = value instead\n",
      "\n",
      "See the caveats in the documentation: https://pandas.pydata.org/pandas-docs/stable/user_guide/indexing.html#returning-a-view-versus-a-copy\n",
      "  HP4['Geo_Addr']= [locator.geocode(addr+', Ames, IA') if type(addr)==str else None \\\n"
     ]
    }
   ],
   "source": [
    "HP4['Geo_Addr']= [locator.geocode(addr+', Ames, IA') if type(addr)==str else None \\\n",
    "for addr in HP4['Prop_Addr']]\n",
    "\n",
    "HP4.to_csv(\"./data/HP4.csv\")\n"
   ]
  },
  {
   "cell_type": "code",
   "execution_count": 69,
   "id": "6cc9a9d4",
   "metadata": {},
   "outputs": [
    {
     "name": "stderr",
     "output_type": "stream",
     "text": [
      "<ipython-input-69-150c3f6f9308>:1: SettingWithCopyWarning: \n",
      "A value is trying to be set on a copy of a slice from a DataFrame.\n",
      "Try using .loc[row_indexer,col_indexer] = value instead\n",
      "\n",
      "See the caveats in the documentation: https://pandas.pydata.org/pandas-docs/stable/user_guide/indexing.html#returning-a-view-versus-a-copy\n",
      "  HP5['Geo_Addr'] = [locator.geocode(addr+', Ames, IA') if type(addr)==str else None \\\n"
     ]
    }
   ],
   "source": [
    "HP5['Geo_Addr'] = [locator.geocode(addr+', Ames, IA') if type(addr)==str else None \\\n",
    "for addr in HP5['Prop_Addr']]\n",
    "HP5.to_csv(\"./data/HP5.csv\")\n"
   ]
  },
  {
   "cell_type": "code",
   "execution_count": 72,
   "id": "c939e565",
   "metadata": {},
   "outputs": [
    {
     "data": {
      "text/html": [
       "<div>\n",
       "<style scoped>\n",
       "    .dataframe tbody tr th:only-of-type {\n",
       "        vertical-align: middle;\n",
       "    }\n",
       "\n",
       "    .dataframe tbody tr th {\n",
       "        vertical-align: top;\n",
       "    }\n",
       "\n",
       "    .dataframe thead th {\n",
       "        text-align: right;\n",
       "    }\n",
       "</style>\n",
       "<table border=\"1\" class=\"dataframe\">\n",
       "  <thead>\n",
       "    <tr style=\"text-align: right;\">\n",
       "      <th></th>\n",
       "      <th>Unnamed: 0</th>\n",
       "      <th>MapRefNo</th>\n",
       "      <th>Prop_Addr</th>\n",
       "      <th>Unnamed: 0.1</th>\n",
       "      <th>PID</th>\n",
       "      <th>GrLivArea</th>\n",
       "      <th>SalePrice</th>\n",
       "      <th>MSSubClass</th>\n",
       "      <th>MSZoning</th>\n",
       "      <th>LotFrontage</th>\n",
       "      <th>...</th>\n",
       "      <th>EnclosedPorch</th>\n",
       "      <th>3SsnPorch</th>\n",
       "      <th>ScreenPorch</th>\n",
       "      <th>PoolArea</th>\n",
       "      <th>MiscVal</th>\n",
       "      <th>MoSold</th>\n",
       "      <th>YrSold</th>\n",
       "      <th>SaleType</th>\n",
       "      <th>SaleCondition</th>\n",
       "      <th>Geo_Addr</th>\n",
       "    </tr>\n",
       "  </thead>\n",
       "  <tbody>\n",
       "    <tr>\n",
       "      <th>2000</th>\n",
       "      <td>2000</td>\n",
       "      <td>528240040.0</td>\n",
       "      <td>4003 WESTLAWN DR</td>\n",
       "      <td>151</td>\n",
       "      <td>528240040</td>\n",
       "      <td>1456</td>\n",
       "      <td>176000</td>\n",
       "      <td>60</td>\n",
       "      <td>RL</td>\n",
       "      <td>51.000000</td>\n",
       "      <td>...</td>\n",
       "      <td>0</td>\n",
       "      <td>0</td>\n",
       "      <td>0</td>\n",
       "      <td>0</td>\n",
       "      <td>0</td>\n",
       "      <td>7</td>\n",
       "      <td>2008</td>\n",
       "      <td>WD</td>\n",
       "      <td>Normal</td>\n",
       "      <td>(4003, Westlawn Drive, Bloomington Heights, Am...</td>\n",
       "    </tr>\n",
       "    <tr>\n",
       "      <th>2001</th>\n",
       "      <td>2001</td>\n",
       "      <td>528178090.0</td>\n",
       "      <td>3210 FOXLEY DR</td>\n",
       "      <td>152</td>\n",
       "      <td>528178090</td>\n",
       "      <td>2690</td>\n",
       "      <td>370000</td>\n",
       "      <td>60</td>\n",
       "      <td>RL</td>\n",
       "      <td>112.000000</td>\n",
       "      <td>...</td>\n",
       "      <td>0</td>\n",
       "      <td>0</td>\n",
       "      <td>0</td>\n",
       "      <td>0</td>\n",
       "      <td>0</td>\n",
       "      <td>7</td>\n",
       "      <td>2008</td>\n",
       "      <td>WD</td>\n",
       "      <td>Normal</td>\n",
       "      <td>(3210, Foxley Drive, Northridge Heights, Ames,...</td>\n",
       "    </tr>\n",
       "    <tr>\n",
       "      <th>2002</th>\n",
       "      <td>2002</td>\n",
       "      <td>923277080.0</td>\n",
       "      <td>3917 VIOLA MAE AVE</td>\n",
       "      <td>153</td>\n",
       "      <td>923277080</td>\n",
       "      <td>845</td>\n",
       "      <td>134500</td>\n",
       "      <td>20</td>\n",
       "      <td>RL</td>\n",
       "      <td>60.000000</td>\n",
       "      <td>...</td>\n",
       "      <td>0</td>\n",
       "      <td>0</td>\n",
       "      <td>0</td>\n",
       "      <td>0</td>\n",
       "      <td>0</td>\n",
       "      <td>7</td>\n",
       "      <td>2008</td>\n",
       "      <td>WD</td>\n",
       "      <td>Normal</td>\n",
       "      <td>(3917, Viola Mae Avenue, Ames, Story County, I...</td>\n",
       "    </tr>\n",
       "    <tr>\n",
       "      <th>2003</th>\n",
       "      <td>2003</td>\n",
       "      <td>903235010.0</td>\n",
       "      <td>1020 10TH ST</td>\n",
       "      <td>154</td>\n",
       "      <td>903235010</td>\n",
       "      <td>1362</td>\n",
       "      <td>128000</td>\n",
       "      <td>70</td>\n",
       "      <td>RM</td>\n",
       "      <td>60.000000</td>\n",
       "      <td>...</td>\n",
       "      <td>84</td>\n",
       "      <td>0</td>\n",
       "      <td>0</td>\n",
       "      <td>0</td>\n",
       "      <td>0</td>\n",
       "      <td>6</td>\n",
       "      <td>2008</td>\n",
       "      <td>WD</td>\n",
       "      <td>Normal</td>\n",
       "      <td>(1020, 10th Street, Ames, Story County, Iowa, ...</td>\n",
       "    </tr>\n",
       "    <tr>\n",
       "      <th>2004</th>\n",
       "      <td>2004</td>\n",
       "      <td>923275010.0</td>\n",
       "      <td>500 GARDEN RD</td>\n",
       "      <td>155</td>\n",
       "      <td>923275010</td>\n",
       "      <td>1178</td>\n",
       "      <td>135000</td>\n",
       "      <td>20</td>\n",
       "      <td>RL</td>\n",
       "      <td>77.234375</td>\n",
       "      <td>...</td>\n",
       "      <td>0</td>\n",
       "      <td>0</td>\n",
       "      <td>88</td>\n",
       "      <td>0</td>\n",
       "      <td>0</td>\n",
       "      <td>6</td>\n",
       "      <td>2007</td>\n",
       "      <td>WD</td>\n",
       "      <td>Normal</td>\n",
       "      <td>(500, Garden Road, Ames, Story County, Iowa, 5...</td>\n",
       "    </tr>\n",
       "  </tbody>\n",
       "</table>\n",
       "<p>5 rows × 82 columns</p>\n",
       "</div>"
      ],
      "text/plain": [
       "      Unnamed: 0     MapRefNo           Prop_Addr  Unnamed: 0.1        PID  \\\n",
       "2000        2000  528240040.0    4003 WESTLAWN DR           151  528240040   \n",
       "2001        2001  528178090.0      3210 FOXLEY DR           152  528178090   \n",
       "2002        2002  923277080.0  3917 VIOLA MAE AVE           153  923277080   \n",
       "2003        2003  903235010.0        1020 10TH ST           154  903235010   \n",
       "2004        2004  923275010.0       500 GARDEN RD           155  923275010   \n",
       "\n",
       "      GrLivArea  SalePrice  MSSubClass MSZoning  LotFrontage  ...  \\\n",
       "2000       1456     176000          60       RL    51.000000  ...   \n",
       "2001       2690     370000          60       RL   112.000000  ...   \n",
       "2002        845     134500          20       RL    60.000000  ...   \n",
       "2003       1362     128000          70       RM    60.000000  ...   \n",
       "2004       1178     135000          20       RL    77.234375  ...   \n",
       "\n",
       "      EnclosedPorch 3SsnPorch ScreenPorch PoolArea MiscVal MoSold YrSold  \\\n",
       "2000              0         0           0        0       0      7   2008   \n",
       "2001              0         0           0        0       0      7   2008   \n",
       "2002              0         0           0        0       0      7   2008   \n",
       "2003             84         0           0        0       0      6   2008   \n",
       "2004              0         0          88        0       0      6   2007   \n",
       "\n",
       "     SaleType SaleCondition                                           Geo_Addr  \n",
       "2000      WD         Normal  (4003, Westlawn Drive, Bloomington Heights, Am...  \n",
       "2001      WD         Normal  (3210, Foxley Drive, Northridge Heights, Ames,...  \n",
       "2002      WD         Normal  (3917, Viola Mae Avenue, Ames, Story County, I...  \n",
       "2003      WD         Normal  (1020, 10th Street, Ames, Story County, Iowa, ...  \n",
       "2004      WD         Normal  (500, Garden Road, Ames, Story County, Iowa, 5...  \n",
       "\n",
       "[5 rows x 82 columns]"
      ]
     },
     "execution_count": 72,
     "metadata": {},
     "output_type": "execute_result"
    }
   ],
   "source": [
    "HP5.head()\n",
    "\n",
    "\n"
   ]
  },
  {
   "cell_type": "code",
   "execution_count": 73,
   "id": "d00aca41",
   "metadata": {},
   "outputs": [
    {
     "data": {
      "text/plain": [
       "0       (436, Hayward Avenue, Campustown, Ames, Story ...\n",
       "1       (3416, West Street, Union Drive, Ames, Story C...\n",
       "2       (3416, West Street, Union Drive, Ames, Story C...\n",
       "3       (320, South 2nd Street, Ames, Story County, Io...\n",
       "4       (1524, Douglas Avenue, Broadmoor, Ames, Story ...\n",
       "                              ...                        \n",
       "2619    (1021, Ridgewood Avenue, Ridgewood, Ames, Stor...\n",
       "2620    (3619, Mary Circle, Ames, Story County, Iowa, ...\n",
       "2621    (2140, Sunset Drive, Richardson Court, Ames, S...\n",
       "2622    (5319, Clemens Boulevard, Bentwood, Ames, Stor...\n",
       "2623    (1025, Vermont Court, Valley East, Ontario, Am...\n",
       "Name: Geo_Addr, Length: 2624, dtype: object"
      ]
     },
     "execution_count": 73,
     "metadata": {},
     "output_type": "execute_result"
    }
   ],
   "source": [
    "HousePrice2 = pd.concat([HP1, HP2, HP3, HP4, HP5])\n",
    "HousePrice2.to_csv(\"./data/HousePrice2.csv\")\n",
    "HousePrice2['Geo_Addr']"
   ]
  },
  {
   "cell_type": "code",
   "execution_count": 74,
   "id": "f1f9ca50",
   "metadata": {},
   "outputs": [
    {
     "data": {
      "text/plain": [
       "(2624, 82)"
      ]
     },
     "execution_count": 74,
     "metadata": {},
     "output_type": "execute_result"
    }
   ],
   "source": [
    "HousePrice2.shape"
   ]
  }
 ],
 "metadata": {
  "kernelspec": {
   "display_name": "Python 3",
   "language": "python",
   "name": "python3"
  },
  "language_info": {
   "codemirror_mode": {
    "name": "ipython",
    "version": 3
   },
   "file_extension": ".py",
   "mimetype": "text/x-python",
   "name": "python",
   "nbconvert_exporter": "python",
   "pygments_lexer": "ipython3",
   "version": "3.8.8"
  }
 },
 "nbformat": 4,
 "nbformat_minor": 5
}
