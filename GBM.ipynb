{
 "cells": [
  {
   "cell_type": "code",
   "execution_count": 7,
   "id": "b2c70497",
   "metadata": {},
   "outputs": [
    {
     "name": "stdout",
     "output_type": "stream",
     "text": [
      "Current working directory: /Users/chereowang27/NYCDSA/Machine_Learning_I/Machine_Learning_Project/Ames_Housing_ML\n"
     ]
    }
   ],
   "source": [
    "import os\n",
    "import pandas as pd\n",
    "import numpy as np\n",
    "import sklearn.ensemble\n",
    "from sklearn.ensemble import GradientBoostingRegressor\n",
    "import matplotlib\n",
    "import matplotlib.pyplot as plt\n",
    "import plotly.express as px\n",
    "import seaborn as sns\n",
    "\n",
    "%matplotlib inline\n",
    "cwd = os.getcwd()\n",
    "print(\"Current working directory: {0}\".format(cwd))\n",
    "\n",
    "HousePrice1 = pd.read_csv(\"HousePrice1.csv\")"
   ]
  },
  {
   "cell_type": "code",
   "execution_count": 8,
   "id": "2756ca8c",
   "metadata": {},
   "outputs": [],
   "source": [
    "HousePrice2 = HousePrice1.drop(['Unnamed: 0', 'MapRefNo','PID','Unnamed: 0.1', 'Prop_Addr'], \\\n",
    "                               axis = 1)\n",
    "num_features = HousePrice2._get_numeric_data()  \\\n",
    " .drop(['MSSubClass', 'SalePrice'], axis = 1)\n",
    "num_features['bath'] = num_features['FullBath'] + 0.5*num_features['HalfBath']\n",
    "numCol = num_features.columns"
   ]
  },
  {
   "cell_type": "code",
   "execution_count": 9,
   "id": "c7adfd74",
   "metadata": {},
   "outputs": [
    {
     "data": {
      "text/plain": [
       "Index(['GrLivArea', 'LotFrontage', 'LotArea', 'OverallQual', 'OverallCond',\n",
       "       'YearBuilt', 'YearRemodAdd', 'MasVnrArea', 'BsmtFinSF1', 'BsmtFinSF2',\n",
       "       'BsmtUnfSF', 'TotalBsmtSF', '1stFlrSF', '2ndFlrSF', 'LowQualFinSF',\n",
       "       'BsmtFullBath', 'BsmtHalfBath', 'FullBath', 'HalfBath', 'BedroomAbvGr',\n",
       "       'KitchenAbvGr', 'TotRmsAbvGrd', 'Fireplaces', 'GarageYrBlt',\n",
       "       'GarageCars', 'GarageArea', 'WoodDeckSF', 'OpenPorchSF',\n",
       "       'EnclosedPorch', '3SsnPorch', 'ScreenPorch', 'PoolArea', 'MiscVal',\n",
       "       'MoSold', 'YrSold', 'bath'],\n",
       "      dtype='object')"
      ]
     },
     "execution_count": 9,
     "metadata": {},
     "output_type": "execute_result"
    }
   ],
   "source": [
    "numCol"
   ]
  },
  {
   "cell_type": "code",
   "execution_count": 10,
   "id": "1fc5748b",
   "metadata": {},
   "outputs": [],
   "source": [
    "col = HousePrice2.columns\n",
    "catCol = [col for col in HousePrice2.columns if col not in num_features.columns]"
   ]
  },
  {
   "cell_type": "code",
   "execution_count": 11,
   "id": "27daaf6d",
   "metadata": {},
   "outputs": [
    {
     "name": "stderr",
     "output_type": "stream",
     "text": [
      "<ipython-input-11-5b03903cfda5>:8: SettingWithCopyWarning: \n",
      "A value is trying to be set on a copy of a slice from a DataFrame.\n",
      "Try using .loc[row_indexer,col_indexer] = value instead\n",
      "\n",
      "See the caveats in the documentation: https://pandas.pydata.org/pandas-docs/stable/user_guide/indexing.html#returning-a-view-versus-a-copy\n",
      "  cat_features['NbPriceTier'] = cat_features['Neighborhood'].map(nb_bin)\n"
     ]
    }
   ],
   "source": [
    "cat_features = HousePrice1[catCol]\n",
    "# group Neighborhood\n",
    "p_mean_by_nb = HousePrice1.groupby('Neighborhood')['SalePrice'].mean() \n",
    "nb_bin = pd.qcut(p_mean_by_nb, q = [0,0.25,.5,.75,1],\n",
    "                 labels = ['tier1','tier2','tier3','tier4'])\\\n",
    "                .to_dict()\n",
    "                 #tier1 < tier2 < tier3 < tier4\n",
    "cat_features['NbPriceTier'] = cat_features['Neighborhood'].map(nb_bin)     \n",
    "\n",
    "# create class variable to put housing price into different tiers\n",
    "price_binned = pd.qcut(HousePrice1['SalePrice'], q = [0,0.25,0.5,0.75,1], \n",
    "                      )"
   ]
  },
  {
   "cell_type": "code",
   "execution_count": 12,
   "id": "dddab6d8",
   "metadata": {},
   "outputs": [],
   "source": [
    "features = pd.concat([num_features, cat_features], axis = 1) \\\n",
    "           .drop(['GrLivArea','FullBath', 'HalfBath', \\\n",
    "                  'BsmtFullBath', 'BsmtHalfBath', \\\n",
    "                  'BsmtFinSF1','SalePrice','LandSlope','ExterQual', \\\n",
    "                  'Condition1','Condition2', \\\n",
    "                  'BsmtFinType1','BsmtFinType2', \\\n",
    "                  'BsmtQual', 'GarageQual','MoSold',   \\\n",
    "                  'BsmtFinSF2', 'BsmtUnfSF','Neighborhood'],axis = 1)\n",
    "catCol = [col for col in features.columns if col not in num_features.columns]\n",
    "features= pd.get_dummies(features, columns = catCol, drop_first = True)\n",
    "\n",
    "y = HousePrice1['SalePrice']\n",
    "HousePrice1['log_Price'] = np.log10(HousePrice1['SalePrice'])\n",
    "logy = HousePrice1['log_Price']"
   ]
  },
  {
   "cell_type": "code",
   "execution_count": 46,
   "id": "cb105e50",
   "metadata": {},
   "outputs": [
    {
     "data": {
      "text/plain": [
       "['MSSubClass',\n",
       " 'MSZoning',\n",
       " 'Street',\n",
       " 'LotShape',\n",
       " 'LandContour',\n",
       " 'Utilities',\n",
       " 'LotConfig',\n",
       " 'BldgType',\n",
       " 'HouseStyle',\n",
       " 'RoofStyle',\n",
       " 'RoofMatl',\n",
       " 'Exterior1st',\n",
       " 'Exterior2nd',\n",
       " 'MasVnrType',\n",
       " 'ExterCond',\n",
       " 'Foundation',\n",
       " 'BsmtCond',\n",
       " 'BsmtExposure',\n",
       " 'Heating',\n",
       " 'HeatingQC',\n",
       " 'CentralAir',\n",
       " 'Electrical',\n",
       " 'KitchenQual',\n",
       " 'Functional',\n",
       " 'FireplaceQu',\n",
       " 'GarageType',\n",
       " 'GarageFinish',\n",
       " 'GarageCond',\n",
       " 'PavedDrive',\n",
       " 'SaleType',\n",
       " 'SaleCondition',\n",
       " 'NbPriceTier']"
      ]
     },
     "execution_count": 46,
     "metadata": {},
     "output_type": "execute_result"
    }
   ],
   "source": [
    "catCol"
   ]
  },
  {
   "cell_type": "code",
   "execution_count": 14,
   "id": "b5440c57",
   "metadata": {},
   "outputs": [
    {
     "name": "stdout",
     "output_type": "stream",
     "text": [
      "      Iter       Train Loss   Remaining Time \n",
      "         1           0.0247            2.34s\n",
      "         2           0.0215            1.95s\n",
      "         3           0.0189            1.68s\n",
      "         4           0.0168            1.50s\n",
      "         5           0.0150            1.37s\n",
      "         6           0.0133            1.26s\n",
      "         7           0.0119            1.18s\n",
      "         8           0.0107            1.12s\n",
      "         9           0.0098            1.07s\n",
      "        10           0.0089            1.03s\n",
      "        20           0.0043            0.79s\n",
      "        30           0.0029            0.66s\n",
      "        40           0.0023            0.55s\n",
      "        50           0.0021            0.45s\n",
      "        60           0.0019            0.36s\n",
      "        70           0.0017            0.27s\n",
      "        80           0.0016            0.18s\n",
      "        90           0.0016            0.09s\n",
      "       100           0.0015            0.00s\n"
     ]
    },
    {
     "data": {
      "text/plain": [
       "GradientBoostingRegressor(verbose=1)"
      ]
     },
     "execution_count": 14,
     "metadata": {},
     "output_type": "execute_result"
    }
   ],
   "source": [
    "X = features\n",
    "gbm = GradientBoostingRegressor()\n",
    "gbm.set_params(verbose = 1)\n",
    "gbm.fit(X, logy)"
   ]
  },
  {
   "cell_type": "code",
   "execution_count": 13,
   "id": "5c403970",
   "metadata": {},
   "outputs": [],
   "source": [
    "# Parameters Tuning\n",
    "# from sklearn.model_selection import train_test_split\n",
    "# from sklearn.metrics import mean_squared_error\n",
    "# X_train_log, X_test_log, Y_train_log, \\\n",
    "# Y_test_log = train_test_split(X, logy, test_size = 0.3, random_state = 0)"
   ]
  },
  {
   "cell_type": "code",
   "execution_count": 21,
   "id": "e29c7d4e",
   "metadata": {},
   "outputs": [],
   "source": [
    "# def tune_gbm(learning_rate, max_depth):\n",
    "#     gbm = GradientBoostingRegressor(\n",
    "#             learning_rate = learning_rate,\n",
    "#             n_estimators = 10000, \n",
    "#             max_depth = max_depth)\n",
    "#     gbm.fit(X_train_log, Y_train_log)\n",
    "    \n",
    "#     return gbm\n",
    "\n",
    "# def gbm_tuning(model, start = 0, end = 10000, training_curve = True):\n",
    "#     gen_train = model.staged_predict(X_train_log)\n",
    "\n",
    "#     gen_test = model.staged_predict(X_test_log)\n",
    "    \n",
    "#     trainMSE = []\n",
    "#     testMSE = []\n",
    "#     steps = range(1, 10001)\n",
    "    \n",
    "#     for n in steps: \n",
    "#         y_pred_train = next(gen_train)\n",
    "#         y_pred_test = next(gen_test)\n",
    "#         trainMSE.append(mean_squared_error(y_pred_train, Y_train_log))\n",
    "#         testMSE.append(mean_squared_error(y_pred_test, Y_test_log))\n",
    "#     print(\"The best test score is {:.2f} at the step {}\".format(\n",
    "#         min(testMSE), np.argmin(testMSE)+1))\n",
    "#     print('-'*50)\n",
    "#     plt.plot(range(start, end), testMSE[start:end])\n",
    "#     if training_curve: \n",
    "#         plt.plot(range(start, end), trainMSE[start:end])"
   ]
  },
  {
   "cell_type": "code",
   "execution_count": 29,
   "id": "827ed4ae",
   "metadata": {},
   "outputs": [
    {
     "name": "stdout",
     "output_type": "stream",
     "text": [
      "231.7806360721588\n",
      "{'learning_rate': 0.08887878787878788, 'max_depth': 4}\n"
     ]
    }
   ],
   "source": [
    "#GBM regressor \n",
    "import time\n",
    "\n",
    "from sklearn.model_selection import GridSearchCV\n",
    "params = {'learning_rate':[.0001,.001,.01, .1, 1] , 'max_depth':[4]} #{'learning_rate': 0.1, 'max_depth': 4}\n",
    "\n",
    "params1 = {'learning_rate':np.linspace(0.05,.1,10) , 'max_depth':[4]} #{'learning_rate': 0.08888888888888889, 'max_depth': 4}\n",
    "\n",
    "params2 = {'learning_rate':np.linspace(0.088,0.089, 100) , 'max_depth':[4]} #{'learning_rate': 0.08887878787878788, 'max_depth': 4}\n",
    "gr_gbm = GridSearchCV(GradientBoostingRegressor(),param_grid = params2, cv = 3 )\n",
    "\n",
    "start= time.time()\n",
    "gr_gbm.fit(X,logy)\n",
    "print(time.time() - start)\n",
    "print(gr_gbm.best_params_)"
   ]
  },
  {
   "cell_type": "code",
   "execution_count": 23,
   "id": "1954efc4",
   "metadata": {},
   "outputs": [
    {
     "name": "stdout",
     "output_type": "stream",
     "text": [
      "{'learning_rate': 0.1, 'max_depth': 4}\n"
     ]
    }
   ],
   "source": []
  },
  {
   "cell_type": "code",
   "execution_count": 25,
   "id": "0bc86cff",
   "metadata": {},
   "outputs": [
    {
     "name": "stdout",
     "output_type": "stream",
     "text": [
      "The best test score is 0.00 at the step 10000\n",
      "--------------------------------------------------\n"
     ]
    },
    {
     "data": {
      "image/png": "[encoded data removed]",
      "text/plain": [
       "<Figure size 432x288 with 1 Axes>"
      ]
     },
     "metadata": {
      "needs_background": "light"
     },
     "output_type": "display_data"
    }
   ],
   "source": [
    "learning_rate = 0.001\n",
    "max_depth = 4\n",
    "\n",
    "model1 = tune_gbm(learning_rate, max_depth)\n",
    "start = 0\n",
    "end = 10000 \n",
    "gbm_tuning(model1, start, end)"
   ]
  },
  {
   "cell_type": "code",
   "execution_count": 32,
   "id": "d4473ee7",
   "metadata": {},
   "outputs": [],
   "source": [
    "learning_rate = .1\n",
    "max_depth = 4\n",
    "\n",
    "model2 = tune_gbm(learning_rate, max_depth)"
   ]
  },
  {
   "cell_type": "code",
   "execution_count": 31,
   "id": "9106bca9",
   "metadata": {},
   "outputs": [
    {
     "name": "stdout",
     "output_type": "stream",
     "text": [
      "The best test score is 0.01 at the step 21\n",
      "--------------------------------------------------\n"
     ]
    },
    {
     "data": {
      "image/png": "[encoded data removed]",
      "text/plain": [
       "<Figure size 432x288 with 1 Axes>"
      ]
     },
     "metadata": {
      "needs_background": "light"
     },
     "output_type": "display_data"
    }
   ],
   "source": [
    "start = 0\n",
    "end = 200\n",
    "# You may change start and end to zoom in\n",
    "\n",
    "gbm_tuning(model2, start, end)"
   ]
  },
  {
   "cell_type": "code",
   "execution_count": null,
   "id": "b7d27edc",
   "metadata": {},
   "outputs": [],
   "source": [
    "#GBM classifier multiclass"
   ]
  },
  {
   "cell_type": "code",
   "execution_count": null,
   "id": "8813e64a",
   "metadata": {},
   "outputs": [],
   "source": []
  },
  {
   "cell_type": "code",
   "execution_count": null,
   "id": "0a4cfd6f",
   "metadata": {},
   "outputs": [],
   "source": []
  },
  {
   "cell_type": "code",
   "execution_count": null,
   "id": "3e1da515",
   "metadata": {},
   "outputs": [],
   "source": []
  },
  {
   "cell_type": "code",
   "execution_count": null,
   "id": "8fa03525",
   "metadata": {},
   "outputs": [],
   "source": []
  }
 ],
 "metadata": {
  "kernelspec": {
   "display_name": "Python 3",
   "language": "python",
   "name": "python3"
  },
  "language_info": {
   "codemirror_mode": {
    "name": "ipython",
    "version": 3
   },
   "file_extension": ".py",
   "mimetype": "text/x-python",
   "name": "python",
   "nbconvert_exporter": "python",
   "pygments_lexer": "ipython3",
   "version": "3.8.8"
  }
 },
 "nbformat": 4,
 "nbformat_minor": 5
}
