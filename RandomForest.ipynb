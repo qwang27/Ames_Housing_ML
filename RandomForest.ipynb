{
 "cells": [
  {
   "cell_type": "code",
   "execution_count": 1,
   "id": "b2c70497",
   "metadata": {},
   "outputs": [
    {
     "name": "stdout",
     "output_type": "stream",
     "text": [
      "Current working directory: /Users/chereowang27/NYCDSA/Machine_Learning_I/Machine_Learning_Project/Ames_Housing_ML\n"
     ]
    },
    {
     "data": {
      "text/plain": [
       "(2530, 83)"
      ]
     },
     "execution_count": 1,
     "metadata": {},
     "output_type": "execute_result"
    }
   ],
   "source": [
    "import os\n",
    "import pandas as pd\n",
    "import numpy as np\n",
    "import sklearn.ensemble\n",
    "from sklearn.ensemble import GradientBoostingRegressor\n",
    "import matplotlib\n",
    "import matplotlib.pyplot as plt\n",
    "import plotly.express as px\n",
    "import seaborn as sns\n",
    "\n",
    "%matplotlib inline\n",
    "cwd = os.getcwd()\n",
    "print(\"Current working directory: {0}\".format(cwd))\n",
    "\n",
    "hp = pd.read_csv(\"./data/HousePrice2.csv\", index_col = 0)\n",
    "hp_res= hp[hp['MSZoning'].isin(['FV','RH','RL','RM'])]\n",
    "hp_res = hp_res.dropna()\n",
    "hp_res.shape"
   ]
  },
  {
   "cell_type": "code",
   "execution_count": 2,
   "id": "76c1588e",
   "metadata": {},
   "outputs": [],
   "source": [
    "hp_res['bath'] = hp_res['FullBath'] + 0.5*hp_res['HalfBath']"
   ]
  },
  {
   "cell_type": "code",
   "execution_count": 3,
   "id": "07b2dd2e",
   "metadata": {},
   "outputs": [
    {
     "data": {
      "text/plain": [
       "Index(['address', 'latitude', 'longitude', 'MapRefNo', 'Prop_Addr',\n",
       "       'Unnamed: 0.1', 'PID', 'GrLivArea', 'SalePrice', 'MSSubClass',\n",
       "       'MSZoning', 'LotFrontage', 'LotArea', 'Street', 'LotShape',\n",
       "       'LandContour', 'Utilities', 'LotConfig', 'LandSlope', 'Neighborhood',\n",
       "       'Condition1', 'Condition2', 'BldgType', 'HouseStyle', 'OverallQual',\n",
       "       'OverallCond', 'YearBuilt', 'YearRemodAdd', 'RoofStyle', 'RoofMatl',\n",
       "       'Exterior1st', 'Exterior2nd', 'MasVnrType', 'MasVnrArea', 'ExterQual',\n",
       "       'ExterCond', 'Foundation', 'BsmtQual', 'BsmtCond', 'BsmtExposure',\n",
       "       'BsmtFinType1', 'BsmtFinSF1', 'BsmtFinType2', 'BsmtFinSF2', 'BsmtUnfSF',\n",
       "       'TotalBsmtSF', 'Heating', 'HeatingQC', 'CentralAir', 'Electrical',\n",
       "       '1stFlrSF', '2ndFlrSF', 'LowQualFinSF', 'BsmtFullBath', 'BsmtHalfBath',\n",
       "       'FullBath', 'HalfBath', 'BedroomAbvGr', 'KitchenAbvGr', 'KitchenQual',\n",
       "       'TotRmsAbvGrd', 'Functional', 'Fireplaces', 'FireplaceQu', 'GarageType',\n",
       "       'GarageYrBlt', 'GarageFinish', 'GarageCars', 'GarageArea', 'GarageQual',\n",
       "       'GarageCond', 'PavedDrive', 'WoodDeckSF', 'OpenPorchSF',\n",
       "       'EnclosedPorch', '3SsnPorch', 'ScreenPorch', 'PoolArea', 'MiscVal',\n",
       "       'MoSold', 'YrSold', 'SaleType', 'SaleCondition', 'bath', 'Location'],\n",
       "      dtype='object')"
      ]
     },
     "execution_count": 3,
     "metadata": {},
     "output_type": "execute_result"
    }
   ],
   "source": [
    "def label_nb(row):\n",
    "    if row['Neighborhood'] in (['NridgHt','NoRidge','Veenker','StoneBr']):      \n",
    "        return 'N'\n",
    "    if row['Neighborhood']      \\\n",
    "             in (['Blmngtn','Gilbert','OldTown', 'NWAmes','NAmes','Blmngtn','BrDale','Somerst','BrkSide','Greens','NPkVill']):\n",
    "        return 'NE'\n",
    "    if row['Neighborhood']      \\\n",
    "            in (['CollgCr','SWISU', 'Edwards','SawyerW','Sawyer','ClearCr']):\n",
    "        return 'W'                      \n",
    "    if row['Neighborhood'] in (['Crawfor','MeadowV','Timber','Mitchel','IDOTRR']):     \n",
    "        return 'S'\n",
    "    \n",
    "hp_res['Location']=hp_res.apply(lambda row: label_nb(row), axis = 1)\n",
    "hp_res.columns"
   ]
  },
  {
   "cell_type": "code",
   "execution_count": 4,
   "id": "6c3a40f4",
   "metadata": {},
   "outputs": [],
   "source": [
    "hp_res = hp_res.drop(['Neighborhood','address', 'latitude', 'longitude', 'MapRefNo', 'Prop_Addr',\\\n",
    "       'Unnamed: 0.1',\n",
    "                  'FullBath', 'HalfBath', \\\n",
    "                  'BsmtFullBath', 'BsmtHalfBath', \\\n",
    "                  'BsmtFinSF1','ExterQual', \\\n",
    "                  'Condition1','Condition2', \\\n",
    "                  'BsmtFinType1','BsmtFinType2', \\\n",
    "                  'BsmtQual', 'GarageQual','MoSold',   \\\n",
    "                  'BsmtFinSF2', 'BsmtUnfSF'], axis = 1)\n",
    "\n",
    "catCol = ['MSSubClass', 'MSZoning','Street', 'LotShape', 'LandContour', 'Utilities', 'LotConfig',\n",
    "       'LandSlope', 'BldgType', 'HouseStyle','OverallCond','RoofStyle', 'RoofMatl', 'Exterior1st',\n",
    "       'Exterior2nd', 'MasVnrType', 'ExterCond', 'Foundation',\n",
    "       'BsmtCond', 'BsmtExposure', 'Heating', 'HeatingQC',\n",
    "       'CentralAir', 'Electrical', 'BedroomAbvGr', 'KitchenAbvGr', 'KitchenQual', 'TotRmsAbvGrd',\n",
    "       'Functional', 'FireplaceQu', 'GarageType', 'GarageFinish','GarageCond', 'PavedDrive',\n",
    "       'EnclosedPorch', '3SsnPorch',\n",
    "       'ScreenPorch', 'MiscVal','SaleType',\n",
    "       'SaleCondition','Location']\n"
   ]
  },
  {
   "cell_type": "code",
   "execution_count": 7,
   "id": "c1669e61",
   "metadata": {},
   "outputs": [],
   "source": [
    "y = hp_res['SalePrice']\n",
    "features = hp_res.drop(['SalePrice','PID'],axis = 1)\n",
    "features = pd.get_dummies(features, columns = catCol, drop_first = True)"
   ]
  },
  {
   "cell_type": "code",
   "execution_count": 8,
   "id": "489c29ca",
   "metadata": {},
   "outputs": [
    {
     "data": {
      "text/plain": [
       "Index(['GrLivArea', 'LotFrontage', 'LotArea', 'OverallQual', 'YearBuilt',\n",
       "       'YearRemodAdd', 'MasVnrArea', 'TotalBsmtSF', '1stFlrSF', '2ndFlrSF',\n",
       "       ...\n",
       "       'SaleType_VWD', 'SaleType_WD ', 'SaleCondition_AdjLand',\n",
       "       'SaleCondition_Alloca', 'SaleCondition_Family', 'SaleCondition_Normal',\n",
       "       'SaleCondition_Partial', 'Location_NE', 'Location_S', 'Location_W'],\n",
       "      dtype='object', length=539)"
      ]
     },
     "execution_count": 8,
     "metadata": {},
     "output_type": "execute_result"
    }
   ],
   "source": [
    "features.columns"
   ]
  },
  {
   "cell_type": "code",
   "execution_count": 25,
   "id": "827ed4ae",
   "metadata": {},
   "outputs": [],
   "source": [
    "import time\n",
    "from sklearn import tree\n",
    "from sklearn import ensemble\n",
    "from sklearn.model_selection import GridSearchCV\n",
    "from sklearn.model_selection import train_test_split\n",
    "from sklearn.metrics import mean_squared_error\n",
    "\n",
    "X_train, X_test, Y_train, \\\n",
    "Y_test = train_test_split(features, y, test_size = 0.3, random_state = 0)\n",
    "\n",
    "tree = tree.DecisionTreeRegressor()\n",
    "randomForest = ensemble.RandomForestClassifier()\n",
    "bagging      = ensemble.BaggingClassifier()"
   ]
  },
  {
   "cell_type": "code",
   "execution_count": 26,
   "id": "4318bff1",
   "metadata": {},
   "outputs": [
    {
     "name": "stdout",
     "output_type": "stream",
     "text": [
      "0.08796286582946777\n"
     ]
    }
   ],
   "source": [
    "start= time.time()\n",
    "tree.fit(X_train, Y_train)\n",
    "print(time.time() - start)"
   ]
  },
  {
   "cell_type": "code",
   "execution_count": 14,
   "id": "82d9e7bc",
   "metadata": {},
   "outputs": [
    {
     "name": "stderr",
     "output_type": "stream",
     "text": [
      "/Users/chereowang27/opt/anaconda3/lib/python3.8/site-packages/sklearn/model_selection/_split.py:666: UserWarning: The least populated class in y has only 1 members, which is less than n_splits=5.\n",
      "  warnings.warn((\"The least populated class in y has only %d\"\n",
      "/Users/chereowang27/opt/anaconda3/lib/python3.8/site-packages/joblib/externals/loky/process_executor.py:688: UserWarning: A worker stopped while some jobs were given to the executor. This can be caused by a too short worker timeout or by a memory leak.\n",
      "  warnings.warn(\n"
     ]
    },
    {
     "name": "stdout",
     "output_type": "stream",
     "text": [
      "340.8156077861786\n"
     ]
    }
   ],
   "source": [
    "grid_para_forest = [{\n",
    "    \"n_estimators\": [25,50,100],\n",
    "    \"criterion\": [\"gini\", \"entropy\"],\n",
    "    \"min_samples_leaf\": range(1,10),\n",
    "    \"min_samples_split\": np.linspace(start = 2, stop = 30, num = 15, dtype = int),\n",
    "    \"random_state\":[42]\n",
    "}]\n",
    "grid_search_forest = GridSearchCV(randomForest, grid_para_forest, scoring = 'accuracy', \\\n",
    "                                  cv = 5, n_jobs = -1 )\n",
    "start= time.time()\n",
    "grid_search_forest.fit(X_train, Y_train)\n",
    "print(time.time() - start)"
   ]
  },
  {
   "cell_type": "code",
   "execution_count": 15,
   "id": "3c20bfd0",
   "metadata": {},
   "outputs": [
    {
     "data": {
      "text/plain": [
       "{'criterion': 'entropy',\n",
       " 'min_samples_leaf': 6,\n",
       " 'min_samples_split': 22,\n",
       " 'n_estimators': 50,\n",
       " 'random_state': 42}"
      ]
     },
     "execution_count": 15,
     "metadata": {},
     "output_type": "execute_result"
    }
   ],
   "source": []
  },
  {
   "cell_type": "code",
   "execution_count": 17,
   "id": "11c86ffa",
   "metadata": {},
   "outputs": [
    {
     "data": {
      "text/plain": [
       "0.05138219145380759"
      ]
     },
     "execution_count": 17,
     "metadata": {},
     "output_type": "execute_result"
    }
   ],
   "source": [
    "grid_search_forest.best_score_"
   ]
  },
  {
   "cell_type": "code",
   "execution_count": 19,
   "id": "0d1f3a7d",
   "metadata": {},
   "outputs": [
    {
     "name": "stdout",
     "output_type": "stream",
     "text": [
      "The training error is: 0.10954\n",
      "The test     error is: 0.96706\n"
     ]
    }
   ],
   "source": [
    "print(\"The training error is: %.5f\" % (1 - grid_search_forest.score(X_train, Y_train)))\n",
    "print(\"The test     error is: %.5f\" % (1 - grid_search_forest.score(X_test, Y_test)))"
   ]
  },
  {
   "cell_type": "code",
   "execution_count": null,
   "id": "60f64bf1",
   "metadata": {},
   "outputs": [],
   "source": []
  },
  {
   "cell_type": "code",
   "execution_count": null,
   "id": "11be575e",
   "metadata": {},
   "outputs": [],
   "source": []
  },
  {
   "cell_type": "code",
   "execution_count": null,
   "id": "17d8785b",
   "metadata": {},
   "outputs": [],
   "source": []
  }
 ],
 "metadata": {
  "kernelspec": {
   "display_name": "Python 3",
   "language": "python",
   "name": "python3"
  },
  "language_info": {
   "codemirror_mode": {
    "name": "ipython",
    "version": 3
   },
   "file_extension": ".py",
   "mimetype": "text/x-python",
   "name": "python",
   "nbconvert_exporter": "python",
   "pygments_lexer": "ipython3",
   "version": "3.8.8"
  }
 },
 "nbformat": 4,
 "nbformat_minor": 5
}
