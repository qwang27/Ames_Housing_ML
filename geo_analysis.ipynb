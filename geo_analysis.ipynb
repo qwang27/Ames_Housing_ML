{
 "cells": [
  {
   "cell_type": "code",
   "execution_count": null,
   "id": "61be7561",
   "metadata": {},
   "outputs": [],
   "source": [
    "import os\n",
    "import pandas as pd\n",
    "import numpy as np\n",
    "from datetime import datetime\n",
    "from scipy import stats\n",
    "import matplotlib\n",
    "import matplotlib.pyplot as plt\n",
    "import plotly.express as px\n",
    "import seaborn as sns\n",
    "\n",
    "from geopy.geocoders import Nominatim\n",
    "from geopy.extra.rate_limiter import RateLimiter\n",
    "\n",
    "%matplotlib inline\n",
    "cwd = os.getcwd()\n",
    "print(\"Current working directory: {0}\".format(cwd))\n",
    "\n",
    "hp = pd.read_csv(\"./data/HousePrice2.csv\", index_col = 0)\n",
    "hp = hp.dropna()\n",
    "hp.shape"
   ]
  },
  {
   "cell_type": "code",
   "execution_count": null,
   "id": "4a35944e",
   "metadata": {},
   "outputs": [],
   "source": [
    "htmlColors = pd.read_csv(\"./data/html_colors.csv\", \n",
    "                         skiprows = 7,\n",
    "                        names = ['name1','name2','hex', 'r','g','b'])\n",
    "htmlColors.head()\n",
    "\n"
   ]
  },
  {
   "cell_type": "code",
   "execution_count": null,
   "id": "d98dbb93",
   "metadata": {},
   "outputs": [],
   "source": [
    "len(hp['Neighborhood'].unique())"
   ]
  },
  {
   "cell_type": "code",
   "execution_count": null,
   "id": "46698e9f",
   "metadata": {},
   "outputs": [],
   "source": [
    "with open ('./data/GmapAPI.txt') as f: \n",
    "    api_key = f.readline()\n",
    "    f.close"
   ]
  },
  {
   "cell_type": "code",
   "execution_count": null,
   "id": "8679f40a",
   "metadata": {},
   "outputs": [],
   "source": [
    "import gmaps\n",
    "gmaps.configure(api_key=api_key)"
   ]
  },
  {
   "cell_type": "code",
   "execution_count": null,
   "id": "3a4bb067",
   "metadata": {},
   "outputs": [],
   "source": [
    "locator = Nominatim(user_agent=\"hi\")\n",
    "ISU = locator.geocode('Ames, IA 50011')\n",
    "ISU_coord = (ISU.latitude, ISU.longitude)\n",
    "ISU_coord"
   ]
  },
  {
   "cell_type": "code",
   "execution_count": null,
   "id": "541aaca7",
   "metadata": {},
   "outputs": [],
   "source": [
    "address = hp[['latitude', 'longitude','Neighborhood']]\n",
    "\n",
    "neighbors = hp.Neighborhood.unique()\n",
    "np.random.seed(0)\n",
    "colors = np.random.choice(htmlColors['hex'], size = len(hp['Neighborhood'].unique()), \\\n",
    "                          replace = False)\n",
    "nbDict = dict(zip(neighbors,colors))\n",
    "\n",
    "address['Neighborhood_color'] = hp['Neighborhood'].map(nbDict)\n",
    "\n",
    "address = address.dropna()\n",
    "address.head()"
   ]
  },
  {
   "cell_type": "code",
   "execution_count": null,
   "id": "2005ca3c",
   "metadata": {},
   "outputs": [],
   "source": [
    "fig = gmaps.figure(center = ISU_coord, map_type = 'TERRAIN', zoom_level = 12,\n",
    "                  layout = {'width': '1000px', 'height': '1000px'})\n",
    "#neighborhood = hp['Neighborhood'].map[]\n",
    "markers = gmaps.symbol_layer(\n",
    "    address[['latitude','longitude']], \n",
    "    hover_text = list(address['Neighborhood']),\n",
    "    fill_color = list(address['Neighborhood_color']),\n",
    "    fill_opacity = 1,\n",
    "    stroke_opacity = 0.0,\n",
    "    scale = 2\n",
    ")\n",
    "\n",
    "fig.add_layer(markers)\n",
    "fig\n"
   ]
  },
  {
   "cell_type": "code",
   "execution_count": null,
   "id": "05984942",
   "metadata": {},
   "outputs": [],
   "source": [
    "fig = gmaps.figure(center = ISU_coord, zoom_level = 12, \n",
    "                   layout = {'width': '1000px', 'height': '1000px'})\n",
    "#neighborhood = hp['Neighborhood'].map[]\n",
    "markers = gmaps.symbol_layer(\n",
    "    address[['latitude','longitude']], \n",
    "    hover_text = list(address['Neighborhood']),\n",
    "    fill_color = list(address['Neighborhood_color']),\n",
    "    fill_opacity = 1,\n",
    "    stroke_opacity = 0.0,\n",
    "    scale = 2\n",
    ")\n",
    "\n",
    "fig.add_layer(markers)\n",
    "fig\n",
    "\n"
   ]
  },
  {
   "cell_type": "code",
   "execution_count": null,
   "id": "1d5d40f7",
   "metadata": {},
   "outputs": [],
   "source": [
    "nbDict2 = dict(zip(colors,neighbors))\n",
    "htmlColors['Neighborhood'] = htmlColors['hex'].map(nbDict2)\n",
    "htmlColors.dropna()\n"
   ]
  },
  {
   "cell_type": "code",
   "execution_count": null,
   "id": "7fb698fd",
   "metadata": {},
   "outputs": [],
   "source": [
    "hp_res= hp[hp['MSZoning'].isin(['FV','RH','RL','RM'])]\n",
    "a_res = hp_res[['latitude', 'longitude','Neighborhood']]\n",
    "\n",
    "neighbors = hp.Neighborhood.unique()\n",
    "np.random.seed(0)\n",
    "colors = np.random.choice(htmlColors['hex'], size = len(hp['Neighborhood'].unique()), \\\n",
    "                          replace = False)\n",
    "nbDict = dict(zip(neighbors,colors))\n",
    "\n",
    "a_res['Neighborhood_color'] = a_res['Neighborhood'].map(nbDict)\n",
    "\n",
    "a_res = address.dropna()\n",
    "a_res.head()"
   ]
  },
  {
   "cell_type": "code",
   "execution_count": null,
   "id": "395e31c0",
   "metadata": {},
   "outputs": [],
   "source": [
    "fig = gmaps.figure(center = ISU_coord, zoom_level = 12,\n",
    "                   layout = {'width': '1000px', 'height': '1000px'})\n",
    "#neighborhood = hp['Neighborhood'].map[]\n",
    "markers = gmaps.symbol_layer(\n",
    "    a_res[['latitude','longitude']], \n",
    "    hover_text = list(a_res['Neighborhood']),\n",
    "    fill_color = list(a_res['Neighborhood_color']),\n",
    "    fill_opacity = 1,\n",
    "    stroke_opacity = 0.0,\n",
    "    scale = 2\n",
    ")\n",
    "\n",
    "fig.add_layer(markers)\n",
    "fig"
   ]
  },
  {
   "cell_type": "code",
   "execution_count": null,
   "id": "dacbd301",
   "metadata": {},
   "outputs": [],
   "source": [
    "hp_res.YearBuilt.sort_values(ascending = False)"
   ]
  },
  {
   "cell_type": "code",
   "execution_count": null,
   "id": "275490ba",
   "metadata": {},
   "outputs": [],
   "source": [
    "hp_res['price_per_sqft'] = hp_res['SalePrice']/hp_res['GrLivArea']\n",
    "hp_res['price_per_sqft_q'] = pd.qcut(hp_res['price_per_sqft'], 3,     \\\n",
    "                                     labels = ['low value', 'medium value','high value'])\n",
    "hp_res['SalePrice_q'] = pd.qcut(hp_res['SalePrice'], 3,      \\\n",
    "                              labels = ['low','medium','high'])\n",
    "\n",
    "def label_value(row):\n",
    "    if row['price_per_sqft_q']=='high value' and \\\n",
    "       row['SalePrice_q']=='high': \n",
    "        return 'high'\n",
    "    elif row['price_per_sqft_q']=='low value' and \\\n",
    "       row['SalePrice_q']=='low': \n",
    "        return 'low'\n",
    "    else:\n",
    "        return 'medium'\n",
    "hp_res['value'] = hp_res.apply(lambda row: label_value(row), axis = 1)"
   ]
  },
  {
   "cell_type": "code",
   "execution_count": null,
   "id": "37dfb9bc",
   "metadata": {},
   "outputs": [],
   "source": [
    "a_res = hp_res[['latitude', 'longitude','Neighborhood','value',\n",
    "               'SalePrice', 'GrLivArea','price_per_sqft','YearBuilt']]\n",
    "\n",
    "value = hp_res.value.unique()\n",
    "np.random.seed(26)\n",
    "colors = np.random.choice(htmlColors['hex'], size = len(hp_res['value'].unique()), \\\n",
    "                          replace = False)\n",
    "valueDict = dict(zip(value,colors))\n",
    "\n",
    "a_res['value_color'] = a_res['value'].map(valueDict)\n",
    "a_res = a_res.dropna()\n",
    "a_res.value_color.unique()"
   ]
  },
  {
   "cell_type": "code",
   "execution_count": null,
   "id": "3a45bd5d",
   "metadata": {},
   "outputs": [],
   "source": [
    "fig = gmaps.figure(center = ISU_coord, zoom_level = 12,\n",
    "                 layout = {'width': '1000px', 'height': '1000px'})\n",
    "#neighborhood = hp['Neighborhood'].map[]\n",
    "markers = gmaps.symbol_layer(\n",
    "    a_res[['latitude','longitude']], \n",
    "    hover_text = list(a_res['Neighborhood']),\n",
    "    fill_color = list(a_res['value_color']),\n",
    "    fill_opacity = 1,\n",
    "    stroke_opacity = 0.0,\n",
    "    scale = 2\n",
    ")\n",
    "\n",
    "fig.add_layer(markers)\n",
    "fig"
   ]
  },
  {
   "cell_type": "code",
   "execution_count": null,
   "id": "10216dae",
   "metadata": {},
   "outputs": [],
   "source": [
    "hp_res['YearBuilt'].loc[1] >1945"
   ]
  },
  {
   "cell_type": "code",
   "execution_count": null,
   "id": "8c7d4a42",
   "metadata": {},
   "outputs": [],
   "source": [
    "a_res = hp_res[['latitude', 'longitude','Neighborhood','YearBuilt']]\n",
    "a_res['YearBuilt'] = a_res['YearBuilt']\n",
    "def label_age(row):\n",
    "    if row['YearBuilt']<1945: \n",
    "        return 'Pre-War'\n",
    "    elif row['YearBuilt'] <2000: \n",
    "        return 'Old'\n",
    "    else:\n",
    "        return 'New'\n",
    "a_res['age'] = hp_res.apply(lambda row: label_age(row), axis = 1)\n",
    "a_res.head()"
   ]
  },
  {
   "cell_type": "code",
   "execution_count": null,
   "id": "e3aa8f46",
   "metadata": {},
   "outputs": [],
   "source": [
    "a_res['age']"
   ]
  },
  {
   "cell_type": "code",
   "execution_count": null,
   "id": "652d2ab7",
   "metadata": {},
   "outputs": [],
   "source": [
    "np.random.seed(8)\n",
    "colors = np.random.choice(htmlColors['hex'], size = len(a_res['age'].unique()), \\\n",
    "                          replace = False)\n",
    "age = a_res.age.unique()\n",
    "ageDict = dict(zip(age,colors))\n",
    "\n",
    "a_res['age_color'] = a_res['age'].map(ageDict)\n",
    "a_res = a_res.dropna()\n",
    "a_res.age_color.unique()\n",
    "ageDict"
   ]
  },
  {
   "cell_type": "code",
   "execution_count": null,
   "id": "d3b46d39",
   "metadata": {},
   "outputs": [],
   "source": [
    "fig = gmaps.figure(center = ISU_coord, zoom_level = 12,\n",
    "                 layout = {'width': '1000px', 'height': '1000px'})\n",
    "#neighborhood = hp['Neighborhood'].map[]\n",
    "markers = gmaps.symbol_layer(\n",
    "    a_res[['latitude','longitude']], \n",
    "    hover_text = list(a_res['age']),\n",
    "    fill_color = list(a_res['age_color']),\n",
    "    fill_opacity = 1,\n",
    "    stroke_opacity = 0.0,\n",
    "    scale = 2\n",
    ")\n",
    "\n",
    "fig.add_layer(markers)\n",
    "fig"
   ]
  }
 ],
 "metadata": {
  "kernelspec": {
   "display_name": "Python 3",
   "language": "python",
   "name": "python3"
  },
  "language_info": {
   "codemirror_mode": {
    "name": "ipython",
    "version": 3
   },
   "file_extension": ".py",
   "mimetype": "text/x-python",
   "name": "python",
   "nbconvert_exporter": "python",
   "pygments_lexer": "ipython3",
   "version": "3.8.8"
  }
 },
 "nbformat": 4,
 "nbformat_minor": 5
}
