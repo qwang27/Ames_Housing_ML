{
 "cells": [
  {
   "cell_type": "code",
   "execution_count": null,
   "id": "61be7561",
   "metadata": {},
   "outputs": [],
   "source": [
    "import os\n",
    "import pandas as pd\n",
    "import numpy as np\n",
    "from datetime import datetime\n",
    "from scipy import stats\n",
    "import matplotlib\n",
    "import matplotlib.pyplot as plt\n",
    "import plotly.express as px\n",
    "import seaborn as sns\n",
    "\n",
    "from geopy.geocoders import Nominatim\n",
    "from geopy.extra.rate_limiter import RateLimiter\n",
    "\n",
    "%matplotlib inline\n",
    "cwd = os.getcwd()\n",
    "print(\"Current working directory: {0}\".format(cwd))\n",
    "\n",
    "hp = pd.read_csv(\"./data/HousePrice2.csv\")\n",
    "hp.columns\n"
   ]
  },
  {
   "cell_type": "code",
   "execution_count": null,
   "id": "4a35944e",
   "metadata": {},
   "outputs": [],
   "source": [
    "htmlColors = pd.read_csv(\"./data/html_colors.csv\", \n",
    "                         skiprows = 7,\n",
    "                        names = ['name1','name2','hex', 'code1','code2','code3'])\n",
    "htmlColors.head()\n"
   ]
  },
  {
   "cell_type": "code",
   "execution_count": null,
   "id": "d98dbb93",
   "metadata": {},
   "outputs": [],
   "source": [
    "len(hp['Neighborhood'].unique())"
   ]
  },
  {
   "cell_type": "code",
   "execution_count": null,
   "id": "46698e9f",
   "metadata": {},
   "outputs": [],
   "source": [
    "with open ('./data/GmapAPI.txt') as f: \n",
    "    api_key = f.readline()\n",
    "    f.close"
   ]
  },
  {
   "cell_type": "code",
   "execution_count": null,
   "id": "838fcce7",
   "metadata": {},
   "outputs": [],
   "source": [
    "api_key"
   ]
  },
  {
   "cell_type": "code",
   "execution_count": null,
   "id": "8679f40a",
   "metadata": {},
   "outputs": [],
   "source": [
    "import gmaps\n",
    "gmaps.configure(api_key=api_key)"
   ]
  },
  {
   "cell_type": "code",
   "execution_count": null,
   "id": "3a4bb067",
   "metadata": {},
   "outputs": [],
   "source": [
    "locator = Nominatim(user_agent=\"hi\")\n",
    "ISU = locator.geocode('Ames, IA 50011')\n",
    "ISU_coord = (ISU.latitude, ISU.longitude)\n",
    "ISU_coord"
   ]
  },
  {
   "cell_type": "code",
   "execution_count": null,
   "id": "541aaca7",
   "metadata": {},
   "outputs": [],
   "source": [
    "\n",
    "address = hp[['latitude', 'longitude','Neighborhood']]\n",
    "\n",
    "neighbors = hp.Neighborhood.unique()\n",
    "np.random.seed(0)\n",
    "colors = np.random.choice(htmlColors['hex'], size = len(hp['Neighborhood'].unique()), \\\n",
    "                          replace = False)\n",
    "nbDict = dict(zip(neighbors,colors))\n",
    "\n",
    "address['Neighborhood_color'] = hp['Neighborhood'].map(nbDict)\n",
    "\n",
    "address = address.dropna()\n",
    "address.head()"
   ]
  },
  {
   "cell_type": "code",
   "execution_count": null,
   "id": "2005ca3c",
   "metadata": {},
   "outputs": [],
   "source": [
    "fig = gmaps.figure(center = ISU_coord, map_type = 'TERRAIN', zoom_level = 10)\n",
    "#neighborhood = hp['Neighborhood'].map[]\n",
    "markers = gmaps.symbol_layer(\n",
    "    address[['latitude','longitude']], \n",
    "    hover_text = list(address['Neighborhood']),\n",
    "    fill_color = list(address['Neighborhood_color']),\n",
    "    fill_opacity = 1,\n",
    "    stroke_opacity = 0.0,\n",
    "    scale = 2\n",
    ")\n",
    "\n",
    "fig.add_layer(markers)\n",
    "fig\n"
   ]
  },
  {
   "cell_type": "code",
   "execution_count": null,
   "id": "ff6b1348",
   "metadata": {},
   "outputs": [],
   "source": [
    "fig = gmaps.figure(center = ISU_coord, zoom_level = 10)\n",
    "#neighborhood = hp['Neighborhood'].map[]\n",
    "markers = gmaps.symbol_layer(\n",
    "    address[['latitude','longitude']], \n",
    "    hover_text = list(address['Neighborhood']),\n",
    "    fill_color = list(address['Neighborhood_color']),\n",
    "    fill_opacity = 1,\n",
    "    stroke_opacity = 0.0,\n",
    "    scale = 2\n",
    ")\n",
    "\n",
    "fig.add_layer(markers)\n",
    "fig\n",
    "\n"
   ]
  },
  {
   "cell_type": "code",
   "execution_count": null,
   "id": "1d5d40f7",
   "metadata": {},
   "outputs": [],
   "source": [
    "nbDict2 = dict(zip(colors,neighbors))\n",
    "htmlColors['Neighborhood'] = htmlColors['hex'].map(nbDict2)\n",
    "htmlColors.dropna()\n"
   ]
  },
  {
   "cell_type": "code",
   "execution_count": null,
   "id": "7fb698fd",
   "metadata": {},
   "outputs": [],
   "source": []
  },
  {
   "cell_type": "code",
   "execution_count": null,
   "id": "dacbd301",
   "metadata": {},
   "outputs": [],
   "source": []
  },
  {
   "cell_type": "code",
   "execution_count": null,
   "id": "275490ba",
   "metadata": {},
   "outputs": [],
   "source": []
  }
 ],
 "metadata": {
  "kernelspec": {
   "display_name": "Python 3",
   "language": "python",
   "name": "python3"
  },
  "language_info": {
   "codemirror_mode": {
    "name": "ipython",
    "version": 3
   },
   "file_extension": ".py",
   "mimetype": "text/x-python",
   "name": "python",
   "nbconvert_exporter": "python",
   "pygments_lexer": "ipython3",
   "version": "3.8.8"
  }
 },
 "nbformat": 4,
 "nbformat_minor": 5
}
