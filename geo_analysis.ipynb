{
 "cells": [
  {
   "cell_type": "code",
   "execution_count": null,
   "id": "61be7561",
   "metadata": {},
   "outputs": [],
   "source": [
    "import os\n",
    "import pandas as pd\n",
    "import numpy as np\n",
    "from datetime import datetime\n",
    "from scipy import stats\n",
    "import matplotlib\n",
    "import matplotlib.pyplot as plt\n",
    "import plotly.express as px\n",
    "import seaborn as sns\n",
    "\n",
    "from geopy.geocoders import Nominatim\n",
    "from geopy.extra.rate_limiter import RateLimiter\n",
    "\n",
    "%matplotlib inline\n",
    "cwd = os.getcwd()\n",
    "print(\"Current working directory: {0}\".format(cwd))\n",
    "\n",
    "HousePrice1 = pd.read_csv(\"HousePrice1.csv\")\n",
    "\n",
    "HousePrice1.head(5)"
   ]
  },
  {
   "cell_type": "code",
   "execution_count": null,
   "id": "fe88d17b",
   "metadata": {},
   "outputs": [],
   "source": [
    "from geopy.geocoders import Nominatim\n",
    "locator = Nominatim(user_agent=\"hi\")\n",
    "location = locator.geocode('3416 WEST ST' + ', Ames, IA')\n",
    "\n",
    "Geo_Addr = [locator.geocode(addr+', Ames, IA') if type(addr)==str else None \\\n",
    "for addr in HousePrice1['Prop_Addr']]\n"
   ]
  },
  {
   "cell_type": "code",
   "execution_count": null,
   "id": "ae5cca60",
   "metadata": {},
   "outputs": [],
   "source": [
    "import geopy\n",
    "from geopy import Nominatim\n",
    "from geopy.extra.rate_limiter import RateLimiter\n",
    "\n",
    "locator = Nominatim(user_agent=\"hi\")\n",
    "location = locator.geocode('3416 WEST ST' + ', Ames, IA')\n",
    "location"
   ]
  },
  {
   "cell_type": "code",
   "execution_count": null,
   "id": "2cad4b79",
   "metadata": {},
   "outputs": [],
   "source": [
    "HousePrice1['Prop_Addr'][:10]"
   ]
  },
  {
   "cell_type": "code",
   "execution_count": null,
   "id": "1bbaaaf2",
   "metadata": {},
   "outputs": [],
   "source": [
    "location = locator.geocode('3416 West St, Ames, IA 50014')\n",
    "\n"
   ]
  },
  {
   "cell_type": "code",
   "execution_count": null,
   "id": "7ba0b05a",
   "metadata": {},
   "outputs": [],
   "source": [
    "location"
   ]
  },
  {
   "cell_type": "code",
   "execution_count": null,
   "id": "8dccd877",
   "metadata": {},
   "outputs": [],
   "source": [
    "Geo_Addr\n"
   ]
  },
  {
   "cell_type": "code",
   "execution_count": null,
   "id": "951f6aed",
   "metadata": {},
   "outputs": [],
   "source": []
  }
 ],
 "metadata": {
  "kernelspec": {
   "display_name": "Python 3",
   "language": "python",
   "name": "python3"
  },
  "language_info": {
   "codemirror_mode": {
    "name": "ipython",
    "version": 3
   },
   "file_extension": ".py",
   "mimetype": "text/x-python",
   "name": "python",
   "nbconvert_exporter": "python",
   "pygments_lexer": "ipython3",
   "version": "3.8.8"
  }
 },
 "nbformat": 4,
 "nbformat_minor": 5
}
